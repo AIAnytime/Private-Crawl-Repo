{
  "nbformat": 4,
  "nbformat_minor": 0,
  "metadata": {
    "colab": {
      "provenance": []
    },
    "kernelspec": {
      "name": "python3",
      "display_name": "Python 3"
    },
    "language_info": {
      "name": "python"
    }
  },
  "cells": [
    {
      "cell_type": "code",
      "execution_count": 4,
      "metadata": {
        "colab": {
          "base_uri": "https://localhost:8080/"
        },
        "id": "EMCWiZb7T0FX",
        "outputId": "4da659b9-bd1b-40c8-8568-cf8f1ff90751"
      },
      "outputs": [
        {
          "output_type": "stream",
          "name": "stdout",
          "text": [
            "Requirement already satisfied: crawl4ai in /usr/local/lib/python3.11/dist-packages (0.4.248)\n",
            "Requirement already satisfied: aiosqlite~=0.20 in /usr/local/lib/python3.11/dist-packages (from crawl4ai) (0.21.0)\n",
            "Requirement already satisfied: lxml~=5.3 in /usr/local/lib/python3.11/dist-packages (from crawl4ai) (5.3.1)\n",
            "Requirement already satisfied: litellm>=1.53.1 in /usr/local/lib/python3.11/dist-packages (from crawl4ai) (1.61.13)\n",
            "Requirement already satisfied: numpy<3,>=1.26.0 in /usr/local/lib/python3.11/dist-packages (from crawl4ai) (1.26.4)\n",
            "Requirement already satisfied: pillow~=10.4 in /usr/local/lib/python3.11/dist-packages (from crawl4ai) (10.4.0)\n",
            "Requirement already satisfied: playwright>=1.49.0 in /usr/local/lib/python3.11/dist-packages (from crawl4ai) (1.50.0)\n",
            "Requirement already satisfied: python-dotenv~=1.0 in /usr/local/lib/python3.11/dist-packages (from crawl4ai) (1.0.1)\n",
            "Requirement already satisfied: requests~=2.26 in /usr/local/lib/python3.11/dist-packages (from crawl4ai) (2.32.3)\n",
            "Requirement already satisfied: beautifulsoup4~=4.12 in /usr/local/lib/python3.11/dist-packages (from crawl4ai) (4.13.3)\n",
            "Requirement already satisfied: tf-playwright-stealth>=1.1.0 in /usr/local/lib/python3.11/dist-packages (from crawl4ai) (1.1.1)\n",
            "Requirement already satisfied: xxhash~=3.4 in /usr/local/lib/python3.11/dist-packages (from crawl4ai) (3.5.0)\n",
            "Requirement already satisfied: rank-bm25~=0.2 in /usr/local/lib/python3.11/dist-packages (from crawl4ai) (0.2.2)\n",
            "Requirement already satisfied: aiofiles>=24.1.0 in /usr/local/lib/python3.11/dist-packages (from crawl4ai) (24.1.0)\n",
            "Requirement already satisfied: colorama~=0.4 in /usr/local/lib/python3.11/dist-packages (from crawl4ai) (0.4.6)\n",
            "Requirement already satisfied: snowballstemmer~=2.2 in /usr/local/lib/python3.11/dist-packages (from crawl4ai) (2.2.0)\n",
            "Requirement already satisfied: pydantic>=2.10 in /usr/local/lib/python3.11/dist-packages (from crawl4ai) (2.10.6)\n",
            "Requirement already satisfied: pyOpenSSL>=24.3.0 in /usr/local/lib/python3.11/dist-packages (from crawl4ai) (25.0.0)\n",
            "Requirement already satisfied: psutil>=6.1.1 in /usr/local/lib/python3.11/dist-packages (from crawl4ai) (7.0.0)\n",
            "Requirement already satisfied: nltk>=3.9.1 in /usr/local/lib/python3.11/dist-packages (from crawl4ai) (3.9.1)\n",
            "Requirement already satisfied: rich>=13.9.4 in /usr/local/lib/python3.11/dist-packages (from crawl4ai) (13.9.4)\n",
            "Requirement already satisfied: cssselect>=1.2.0 in /usr/local/lib/python3.11/dist-packages (from crawl4ai) (1.2.0)\n",
            "Requirement already satisfied: httpx==0.27.2 in /usr/local/lib/python3.11/dist-packages (from crawl4ai) (0.27.2)\n",
            "Requirement already satisfied: fake-useragent>=2.0.3 in /usr/local/lib/python3.11/dist-packages (from crawl4ai) (2.0.3)\n",
            "Requirement already satisfied: anyio in /usr/local/lib/python3.11/dist-packages (from httpx==0.27.2->crawl4ai) (3.7.1)\n",
            "Requirement already satisfied: certifi in /usr/local/lib/python3.11/dist-packages (from httpx==0.27.2->crawl4ai) (2025.1.31)\n",
            "Requirement already satisfied: httpcore==1.* in /usr/local/lib/python3.11/dist-packages (from httpx==0.27.2->crawl4ai) (1.0.7)\n",
            "Requirement already satisfied: idna in /usr/local/lib/python3.11/dist-packages (from httpx==0.27.2->crawl4ai) (3.10)\n",
            "Requirement already satisfied: sniffio in /usr/local/lib/python3.11/dist-packages (from httpx==0.27.2->crawl4ai) (1.3.1)\n",
            "Requirement already satisfied: h11<0.15,>=0.13 in /usr/local/lib/python3.11/dist-packages (from httpcore==1.*->httpx==0.27.2->crawl4ai) (0.14.0)\n",
            "Requirement already satisfied: typing_extensions>=4.0 in /usr/local/lib/python3.11/dist-packages (from aiosqlite~=0.20->crawl4ai) (4.12.2)\n",
            "Requirement already satisfied: soupsieve>1.2 in /usr/local/lib/python3.11/dist-packages (from beautifulsoup4~=4.12->crawl4ai) (2.6)\n",
            "Requirement already satisfied: aiohttp in /usr/local/lib/python3.11/dist-packages (from litellm>=1.53.1->crawl4ai) (3.11.12)\n",
            "Requirement already satisfied: click in /usr/local/lib/python3.11/dist-packages (from litellm>=1.53.1->crawl4ai) (8.1.8)\n",
            "Requirement already satisfied: importlib-metadata>=6.8.0 in /usr/local/lib/python3.11/dist-packages (from litellm>=1.53.1->crawl4ai) (8.6.1)\n",
            "Requirement already satisfied: jinja2<4.0.0,>=3.1.2 in /usr/local/lib/python3.11/dist-packages (from litellm>=1.53.1->crawl4ai) (3.1.5)\n",
            "Requirement already satisfied: jsonschema<5.0.0,>=4.22.0 in /usr/local/lib/python3.11/dist-packages (from litellm>=1.53.1->crawl4ai) (4.23.0)\n",
            "Requirement already satisfied: openai>=1.61.0 in /usr/local/lib/python3.11/dist-packages (from litellm>=1.53.1->crawl4ai) (1.61.1)\n",
            "Requirement already satisfied: tiktoken>=0.7.0 in /usr/local/lib/python3.11/dist-packages (from litellm>=1.53.1->crawl4ai) (0.9.0)\n",
            "Requirement already satisfied: tokenizers in /usr/local/lib/python3.11/dist-packages (from litellm>=1.53.1->crawl4ai) (0.21.0)\n",
            "Requirement already satisfied: joblib in /usr/local/lib/python3.11/dist-packages (from nltk>=3.9.1->crawl4ai) (1.4.2)\n",
            "Requirement already satisfied: regex>=2021.8.3 in /usr/local/lib/python3.11/dist-packages (from nltk>=3.9.1->crawl4ai) (2024.11.6)\n",
            "Requirement already satisfied: tqdm in /usr/local/lib/python3.11/dist-packages (from nltk>=3.9.1->crawl4ai) (4.67.1)\n",
            "Requirement already satisfied: pyee<13,>=12 in /usr/local/lib/python3.11/dist-packages (from playwright>=1.49.0->crawl4ai) (12.1.1)\n",
            "Requirement already satisfied: greenlet<4.0.0,>=3.1.1 in /usr/local/lib/python3.11/dist-packages (from playwright>=1.49.0->crawl4ai) (3.1.1)\n",
            "Requirement already satisfied: annotated-types>=0.6.0 in /usr/local/lib/python3.11/dist-packages (from pydantic>=2.10->crawl4ai) (0.7.0)\n",
            "Requirement already satisfied: pydantic-core==2.27.2 in /usr/local/lib/python3.11/dist-packages (from pydantic>=2.10->crawl4ai) (2.27.2)\n",
            "Requirement already satisfied: cryptography<45,>=41.0.5 in /usr/local/lib/python3.11/dist-packages (from pyOpenSSL>=24.3.0->crawl4ai) (43.0.3)\n",
            "Requirement already satisfied: charset-normalizer<4,>=2 in /usr/local/lib/python3.11/dist-packages (from requests~=2.26->crawl4ai) (3.4.1)\n",
            "Requirement already satisfied: urllib3<3,>=1.21.1 in /usr/local/lib/python3.11/dist-packages (from requests~=2.26->crawl4ai) (2.3.0)\n",
            "Requirement already satisfied: markdown-it-py>=2.2.0 in /usr/local/lib/python3.11/dist-packages (from rich>=13.9.4->crawl4ai) (3.0.0)\n",
            "Requirement already satisfied: pygments<3.0.0,>=2.13.0 in /usr/local/lib/python3.11/dist-packages (from rich>=13.9.4->crawl4ai) (2.18.0)\n",
            "Requirement already satisfied: fake-http-header<0.4.0,>=0.3.5 in /usr/local/lib/python3.11/dist-packages (from tf-playwright-stealth>=1.1.0->crawl4ai) (0.3.5)\n",
            "Requirement already satisfied: cffi>=1.12 in /usr/local/lib/python3.11/dist-packages (from cryptography<45,>=41.0.5->pyOpenSSL>=24.3.0->crawl4ai) (1.17.1)\n",
            "Requirement already satisfied: zipp>=3.20 in /usr/local/lib/python3.11/dist-packages (from importlib-metadata>=6.8.0->litellm>=1.53.1->crawl4ai) (3.21.0)\n",
            "Requirement already satisfied: MarkupSafe>=2.0 in /usr/local/lib/python3.11/dist-packages (from jinja2<4.0.0,>=3.1.2->litellm>=1.53.1->crawl4ai) (3.0.2)\n",
            "Requirement already satisfied: attrs>=22.2.0 in /usr/local/lib/python3.11/dist-packages (from jsonschema<5.0.0,>=4.22.0->litellm>=1.53.1->crawl4ai) (25.1.0)\n",
            "Requirement already satisfied: jsonschema-specifications>=2023.03.6 in /usr/local/lib/python3.11/dist-packages (from jsonschema<5.0.0,>=4.22.0->litellm>=1.53.1->crawl4ai) (2024.10.1)\n",
            "Requirement already satisfied: referencing>=0.28.4 in /usr/local/lib/python3.11/dist-packages (from jsonschema<5.0.0,>=4.22.0->litellm>=1.53.1->crawl4ai) (0.36.2)\n",
            "Requirement already satisfied: rpds-py>=0.7.1 in /usr/local/lib/python3.11/dist-packages (from jsonschema<5.0.0,>=4.22.0->litellm>=1.53.1->crawl4ai) (0.22.3)\n",
            "Requirement already satisfied: mdurl~=0.1 in /usr/local/lib/python3.11/dist-packages (from markdown-it-py>=2.2.0->rich>=13.9.4->crawl4ai) (0.1.2)\n",
            "Requirement already satisfied: distro<2,>=1.7.0 in /usr/local/lib/python3.11/dist-packages (from openai>=1.61.0->litellm>=1.53.1->crawl4ai) (1.9.0)\n",
            "Requirement already satisfied: jiter<1,>=0.4.0 in /usr/local/lib/python3.11/dist-packages (from openai>=1.61.0->litellm>=1.53.1->crawl4ai) (0.8.2)\n",
            "Requirement already satisfied: aiohappyeyeballs>=2.3.0 in /usr/local/lib/python3.11/dist-packages (from aiohttp->litellm>=1.53.1->crawl4ai) (2.4.6)\n",
            "Requirement already satisfied: aiosignal>=1.1.2 in /usr/local/lib/python3.11/dist-packages (from aiohttp->litellm>=1.53.1->crawl4ai) (1.3.2)\n",
            "Requirement already satisfied: frozenlist>=1.1.1 in /usr/local/lib/python3.11/dist-packages (from aiohttp->litellm>=1.53.1->crawl4ai) (1.5.0)\n",
            "Requirement already satisfied: multidict<7.0,>=4.5 in /usr/local/lib/python3.11/dist-packages (from aiohttp->litellm>=1.53.1->crawl4ai) (6.1.0)\n",
            "Requirement already satisfied: propcache>=0.2.0 in /usr/local/lib/python3.11/dist-packages (from aiohttp->litellm>=1.53.1->crawl4ai) (0.2.1)\n",
            "Requirement already satisfied: yarl<2.0,>=1.17.0 in /usr/local/lib/python3.11/dist-packages (from aiohttp->litellm>=1.53.1->crawl4ai) (1.18.3)\n",
            "Requirement already satisfied: huggingface-hub<1.0,>=0.16.4 in /usr/local/lib/python3.11/dist-packages (from tokenizers->litellm>=1.53.1->crawl4ai) (0.28.1)\n",
            "Requirement already satisfied: pycparser in /usr/local/lib/python3.11/dist-packages (from cffi>=1.12->cryptography<45,>=41.0.5->pyOpenSSL>=24.3.0->crawl4ai) (2.22)\n",
            "Requirement already satisfied: filelock in /usr/local/lib/python3.11/dist-packages (from huggingface-hub<1.0,>=0.16.4->tokenizers->litellm>=1.53.1->crawl4ai) (3.17.0)\n",
            "Requirement already satisfied: fsspec>=2023.5.0 in /usr/local/lib/python3.11/dist-packages (from huggingface-hub<1.0,>=0.16.4->tokenizers->litellm>=1.53.1->crawl4ai) (2024.10.0)\n",
            "Requirement already satisfied: packaging>=20.9 in /usr/local/lib/python3.11/dist-packages (from huggingface-hub<1.0,>=0.16.4->tokenizers->litellm>=1.53.1->crawl4ai) (24.2)\n",
            "Requirement already satisfied: pyyaml>=5.1 in /usr/local/lib/python3.11/dist-packages (from huggingface-hub<1.0,>=0.16.4->tokenizers->litellm>=1.53.1->crawl4ai) (6.0.2)\n",
            "Requirement already satisfied: nest_asyncio in /usr/local/lib/python3.11/dist-packages (1.6.0)\n"
          ]
        }
      ],
      "source": [
        "!pip install -U crawl4ai\n",
        "!pip install nest_asyncio"
      ]
    },
    {
      "cell_type": "markdown",
      "source": [
        "## Crawl the URL and save the output in a file"
      ],
      "metadata": {
        "id": "n72LEw1FZpoN"
      }
    },
    {
      "cell_type": "code",
      "source": [
        "import crawl4ai\n",
        "print(crawl4ai.__version__.__version__)"
      ],
      "metadata": {
        "colab": {
          "base_uri": "https://localhost:8080/"
        },
        "id": "VHlfDGmAYjUQ",
        "outputId": "88d78469-f745-4829-edd1-e582af4106ce"
      },
      "execution_count": 5,
      "outputs": [
        {
          "output_type": "stream",
          "name": "stdout",
          "text": [
            "0.4.248\n"
          ]
        }
      ]
    },
    {
      "cell_type": "code",
      "source": [
        "%%capture\n",
        "!crawl4ai-setup"
      ],
      "metadata": {
        "id": "cwN9ArmoYngO"
      },
      "execution_count": 6,
      "outputs": []
    },
    {
      "cell_type": "code",
      "source": [
        "!crawl4ai-doctor"
      ],
      "metadata": {
        "colab": {
          "base_uri": "https://localhost:8080/"
        },
        "id": "AVcgd4P8YsgM",
        "outputId": "39fc024e-6789-4e62-a4b3-ba0057063309"
      },
      "execution_count": 7,
      "outputs": [
        {
          "output_type": "stream",
          "name": "stdout",
          "text": [
            "[INIT].... → Running Crawl4AI health check...\n",
            "[INIT].... → Crawl4AI 0.4.248\n",
            "[TEST].... ℹ Testing crawling capabilities...\n",
            "[EXPORT].. ℹ Exporting PDF and taking screenshot took 1.80s\n",
            "[FETCH]... ↓ https://crawl4ai.com... | Status: True | Time: 3.87s\n",
            "[SCRAPE].. ◆ Processed https://crawl4ai.com... | Time: 85ms\n",
            "[COMPLETE] ● https://crawl4ai.com... | Status: True | Total: 3.96s\n",
            "[COMPLETE] ● ✅ Crawling test passed!\n"
          ]
        }
      ]
    },
    {
      "cell_type": "code",
      "source": [
        "url = \"https://www2.deloitte.com/us/en/insights/economy/global-economic-outlook/weekly-update/weekly-update-2023-10.html\""
      ],
      "metadata": {
        "id": "zn4FceyEXpS1"
      },
      "execution_count": 10,
      "outputs": []
    },
    {
      "cell_type": "code",
      "source": [
        "import asyncio\n",
        "import nest_asyncio\n",
        "nest_asyncio.apply()"
      ],
      "metadata": {
        "id": "F2L1FuxTY9dR"
      },
      "execution_count": 11,
      "outputs": []
    },
    {
      "cell_type": "code",
      "source": [
        "from crawl4ai import AsyncWebCrawler, CacheMode, BrowserConfig, CrawlerRunConfig, CacheMode"
      ],
      "metadata": {
        "id": "XRtVsn2bY-B6"
      },
      "execution_count": 12,
      "outputs": []
    },
    {
      "cell_type": "code",
      "source": [
        "async def simple_crawl():\n",
        "    crawler_run_config = CrawlerRunConfig(cache_mode=CacheMode.BYPASS)\n",
        "    async with AsyncWebCrawler() as crawler:\n",
        "        result = await crawler.arun(\n",
        "            url=url,\n",
        "            config=crawler_run_config\n",
        "        )\n",
        "        # Process the output\n",
        "        output = result.markdown\n",
        "\n",
        "        # Write the output to a markdown file\n",
        "        with open(\"output.md\", \"w\", encoding=\"utf-8\") as md_file:\n",
        "            md_file.write(output)\n",
        "\n",
        "        print(\"Output saved to output.md\")"
      ],
      "metadata": {
        "id": "Pme_DPWKY9_T"
      },
      "execution_count": 25,
      "outputs": []
    },
    {
      "cell_type": "code",
      "source": [
        "asyncio.run(simple_crawl())"
      ],
      "metadata": {
        "colab": {
          "base_uri": "https://localhost:8080/"
        },
        "id": "nbEtHHccY99B",
        "outputId": "c5b3d892-19bf-4869-99db-8e6e5b1d2397"
      },
      "execution_count": 26,
      "outputs": [
        {
          "output_type": "stream",
          "name": "stdout",
          "text": [
            "[INIT].... → Crawl4AI 0.4.248\n",
            "[FETCH]... ↓ https://www2.deloitte.com/us/en/insights/economy/g... | Status: True | Time: 7.15s\n",
            "[SCRAPE].. ◆ Processed https://www2.deloitte.com/us/en/insights/economy/g... | Time: 442ms\n",
            "[COMPLETE] ● https://www2.deloitte.com/us/en/insights/economy/g... | Status: True | Total: 7.62s\n",
            "Output saved to output.md\n"
          ]
        }
      ]
    },
    {
      "cell_type": "code",
      "source": [],
      "metadata": {
        "id": "-pwfVYcpZKc8"
      },
      "execution_count": null,
      "outputs": []
    },
    {
      "cell_type": "markdown",
      "source": [
        "## RAG"
      ],
      "metadata": {
        "id": "KiqHOPfuZs53"
      }
    },
    {
      "cell_type": "code",
      "source": [
        "!pip install langchain langchain_community langchain_core faiss-cpu openai unstructured"
      ],
      "metadata": {
        "colab": {
          "base_uri": "https://localhost:8080/"
        },
        "id": "fVi-ceMHZtgA",
        "outputId": "698b3533-cb15-4be2-bc2a-f9f0ac1d9ad5"
      },
      "execution_count": 30,
      "outputs": [
        {
          "output_type": "stream",
          "name": "stdout",
          "text": [
            "Requirement already satisfied: langchain in /usr/local/lib/python3.11/dist-packages (0.3.19)\n",
            "Requirement already satisfied: langchain_community in /usr/local/lib/python3.11/dist-packages (0.3.18)\n",
            "Requirement already satisfied: langchain_core in /usr/local/lib/python3.11/dist-packages (0.3.37)\n",
            "Requirement already satisfied: faiss-cpu in /usr/local/lib/python3.11/dist-packages (1.10.0)\n",
            "Requirement already satisfied: openai in /usr/local/lib/python3.11/dist-packages (1.61.1)\n",
            "Collecting unstructured\n",
            "  Downloading unstructured-0.16.23-py3-none-any.whl.metadata (24 kB)\n",
            "Requirement already satisfied: langchain-text-splitters<1.0.0,>=0.3.6 in /usr/local/lib/python3.11/dist-packages (from langchain) (0.3.6)\n",
            "Requirement already satisfied: langsmith<0.4,>=0.1.17 in /usr/local/lib/python3.11/dist-packages (from langchain) (0.3.8)\n",
            "Requirement already satisfied: pydantic<3.0.0,>=2.7.4 in /usr/local/lib/python3.11/dist-packages (from langchain) (2.10.6)\n",
            "Requirement already satisfied: SQLAlchemy<3,>=1.4 in /usr/local/lib/python3.11/dist-packages (from langchain) (2.0.38)\n",
            "Requirement already satisfied: requests<3,>=2 in /usr/local/lib/python3.11/dist-packages (from langchain) (2.32.3)\n",
            "Requirement already satisfied: PyYAML>=5.3 in /usr/local/lib/python3.11/dist-packages (from langchain) (6.0.2)\n",
            "Requirement already satisfied: aiohttp<4.0.0,>=3.8.3 in /usr/local/lib/python3.11/dist-packages (from langchain) (3.11.12)\n",
            "Requirement already satisfied: tenacity!=8.4.0,<10,>=8.1.0 in /usr/local/lib/python3.11/dist-packages (from langchain) (9.0.0)\n",
            "Requirement already satisfied: numpy<2,>=1.26.4 in /usr/local/lib/python3.11/dist-packages (from langchain) (1.26.4)\n",
            "Requirement already satisfied: dataclasses-json<0.7,>=0.5.7 in /usr/local/lib/python3.11/dist-packages (from langchain_community) (0.6.7)\n",
            "Requirement already satisfied: pydantic-settings<3.0.0,>=2.4.0 in /usr/local/lib/python3.11/dist-packages (from langchain_community) (2.8.0)\n",
            "Requirement already satisfied: httpx-sse<1.0.0,>=0.4.0 in /usr/local/lib/python3.11/dist-packages (from langchain_community) (0.4.0)\n",
            "Requirement already satisfied: jsonpatch<2.0,>=1.33 in /usr/local/lib/python3.11/dist-packages (from langchain_core) (1.33)\n",
            "Requirement already satisfied: packaging<25,>=23.2 in /usr/local/lib/python3.11/dist-packages (from langchain_core) (24.2)\n",
            "Requirement already satisfied: typing-extensions>=4.7 in /usr/local/lib/python3.11/dist-packages (from langchain_core) (4.12.2)\n",
            "Requirement already satisfied: anyio<5,>=3.5.0 in /usr/local/lib/python3.11/dist-packages (from openai) (3.7.1)\n",
            "Requirement already satisfied: distro<2,>=1.7.0 in /usr/local/lib/python3.11/dist-packages (from openai) (1.9.0)\n",
            "Requirement already satisfied: httpx<1,>=0.23.0 in /usr/local/lib/python3.11/dist-packages (from openai) (0.27.2)\n",
            "Requirement already satisfied: jiter<1,>=0.4.0 in /usr/local/lib/python3.11/dist-packages (from openai) (0.8.2)\n",
            "Requirement already satisfied: sniffio in /usr/local/lib/python3.11/dist-packages (from openai) (1.3.1)\n",
            "Requirement already satisfied: tqdm>4 in /usr/local/lib/python3.11/dist-packages (from openai) (4.67.1)\n",
            "Requirement already satisfied: chardet in /usr/local/lib/python3.11/dist-packages (from unstructured) (5.2.0)\n",
            "Collecting filetype (from unstructured)\n",
            "  Downloading filetype-1.2.0-py2.py3-none-any.whl.metadata (6.5 kB)\n",
            "Collecting python-magic (from unstructured)\n",
            "  Downloading python_magic-0.4.27-py2.py3-none-any.whl.metadata (5.8 kB)\n",
            "Requirement already satisfied: lxml in /usr/local/lib/python3.11/dist-packages (from unstructured) (5.3.1)\n",
            "Requirement already satisfied: nltk in /usr/local/lib/python3.11/dist-packages (from unstructured) (3.9.1)\n",
            "Requirement already satisfied: beautifulsoup4 in /usr/local/lib/python3.11/dist-packages (from unstructured) (4.13.3)\n",
            "Collecting emoji (from unstructured)\n",
            "  Downloading emoji-2.14.1-py3-none-any.whl.metadata (5.7 kB)\n",
            "Collecting python-iso639 (from unstructured)\n",
            "  Downloading python_iso639-2025.2.18-py3-none-any.whl.metadata (14 kB)\n",
            "Collecting langdetect (from unstructured)\n",
            "  Downloading langdetect-1.0.9.tar.gz (981 kB)\n",
            "     ━━━━━━━━━━━━━━━━━━━━━━━━━━━━━━━━━━━━━━━━ 981.5/981.5 kB 12.8 MB/s eta 0:00:00\n",
            "\u001b[?25h  Preparing metadata (setup.py) ... \u001b[?25l\u001b[?25hdone\n",
            "Collecting rapidfuzz (from unstructured)\n",
            "  Downloading rapidfuzz-3.12.1-cp311-cp311-manylinux_2_17_x86_64.manylinux2014_x86_64.whl.metadata (11 kB)\n",
            "Collecting backoff (from unstructured)\n",
            "  Downloading backoff-2.2.1-py3-none-any.whl.metadata (14 kB)\n",
            "Collecting unstructured-client (from unstructured)\n",
            "  Downloading unstructured_client-0.30.3-py3-none-any.whl.metadata (23 kB)\n",
            "Requirement already satisfied: wrapt in /usr/local/lib/python3.11/dist-packages (from unstructured) (1.17.2)\n",
            "Requirement already satisfied: psutil in /usr/local/lib/python3.11/dist-packages (from unstructured) (7.0.0)\n",
            "Collecting python-oxmsg (from unstructured)\n",
            "  Downloading python_oxmsg-0.0.2-py3-none-any.whl.metadata (5.0 kB)\n",
            "Requirement already satisfied: html5lib in /usr/local/lib/python3.11/dist-packages (from unstructured) (1.1)\n",
            "Requirement already satisfied: aiohappyeyeballs>=2.3.0 in /usr/local/lib/python3.11/dist-packages (from aiohttp<4.0.0,>=3.8.3->langchain) (2.4.6)\n",
            "Requirement already satisfied: aiosignal>=1.1.2 in /usr/local/lib/python3.11/dist-packages (from aiohttp<4.0.0,>=3.8.3->langchain) (1.3.2)\n",
            "Requirement already satisfied: attrs>=17.3.0 in /usr/local/lib/python3.11/dist-packages (from aiohttp<4.0.0,>=3.8.3->langchain) (25.1.0)\n",
            "Requirement already satisfied: frozenlist>=1.1.1 in /usr/local/lib/python3.11/dist-packages (from aiohttp<4.0.0,>=3.8.3->langchain) (1.5.0)\n",
            "Requirement already satisfied: multidict<7.0,>=4.5 in /usr/local/lib/python3.11/dist-packages (from aiohttp<4.0.0,>=3.8.3->langchain) (6.1.0)\n",
            "Requirement already satisfied: propcache>=0.2.0 in /usr/local/lib/python3.11/dist-packages (from aiohttp<4.0.0,>=3.8.3->langchain) (0.2.1)\n",
            "Requirement already satisfied: yarl<2.0,>=1.17.0 in /usr/local/lib/python3.11/dist-packages (from aiohttp<4.0.0,>=3.8.3->langchain) (1.18.3)\n",
            "Requirement already satisfied: idna>=2.8 in /usr/local/lib/python3.11/dist-packages (from anyio<5,>=3.5.0->openai) (3.10)\n",
            "Requirement already satisfied: marshmallow<4.0.0,>=3.18.0 in /usr/local/lib/python3.11/dist-packages (from dataclasses-json<0.7,>=0.5.7->langchain_community) (3.26.1)\n",
            "Requirement already satisfied: typing-inspect<1,>=0.4.0 in /usr/local/lib/python3.11/dist-packages (from dataclasses-json<0.7,>=0.5.7->langchain_community) (0.9.0)\n",
            "Requirement already satisfied: certifi in /usr/local/lib/python3.11/dist-packages (from httpx<1,>=0.23.0->openai) (2025.1.31)\n",
            "Requirement already satisfied: httpcore==1.* in /usr/local/lib/python3.11/dist-packages (from httpx<1,>=0.23.0->openai) (1.0.7)\n",
            "Requirement already satisfied: h11<0.15,>=0.13 in /usr/local/lib/python3.11/dist-packages (from httpcore==1.*->httpx<1,>=0.23.0->openai) (0.14.0)\n",
            "Requirement already satisfied: jsonpointer>=1.9 in /usr/local/lib/python3.11/dist-packages (from jsonpatch<2.0,>=1.33->langchain_core) (3.0.0)\n",
            "Requirement already satisfied: orjson<4.0.0,>=3.9.14 in /usr/local/lib/python3.11/dist-packages (from langsmith<0.4,>=0.1.17->langchain) (3.10.15)\n",
            "Requirement already satisfied: requests-toolbelt<2.0.0,>=1.0.0 in /usr/local/lib/python3.11/dist-packages (from langsmith<0.4,>=0.1.17->langchain) (1.0.0)\n",
            "Requirement already satisfied: zstandard<0.24.0,>=0.23.0 in /usr/local/lib/python3.11/dist-packages (from langsmith<0.4,>=0.1.17->langchain) (0.23.0)\n",
            "Requirement already satisfied: annotated-types>=0.6.0 in /usr/local/lib/python3.11/dist-packages (from pydantic<3.0.0,>=2.7.4->langchain) (0.7.0)\n",
            "Requirement already satisfied: pydantic-core==2.27.2 in /usr/local/lib/python3.11/dist-packages (from pydantic<3.0.0,>=2.7.4->langchain) (2.27.2)\n",
            "Requirement already satisfied: python-dotenv>=0.21.0 in /usr/local/lib/python3.11/dist-packages (from pydantic-settings<3.0.0,>=2.4.0->langchain_community) (1.0.1)\n",
            "Requirement already satisfied: charset-normalizer<4,>=2 in /usr/local/lib/python3.11/dist-packages (from requests<3,>=2->langchain) (3.4.1)\n",
            "Requirement already satisfied: urllib3<3,>=1.21.1 in /usr/local/lib/python3.11/dist-packages (from requests<3,>=2->langchain) (2.3.0)\n",
            "Requirement already satisfied: greenlet!=0.4.17 in /usr/local/lib/python3.11/dist-packages (from SQLAlchemy<3,>=1.4->langchain) (3.1.1)\n",
            "Requirement already satisfied: soupsieve>1.2 in /usr/local/lib/python3.11/dist-packages (from beautifulsoup4->unstructured) (2.6)\n",
            "Requirement already satisfied: six>=1.9 in /usr/local/lib/python3.11/dist-packages (from html5lib->unstructured) (1.17.0)\n",
            "Requirement already satisfied: webencodings in /usr/local/lib/python3.11/dist-packages (from html5lib->unstructured) (0.5.1)\n",
            "Requirement already satisfied: click in /usr/local/lib/python3.11/dist-packages (from nltk->unstructured) (8.1.8)\n",
            "Requirement already satisfied: joblib in /usr/local/lib/python3.11/dist-packages (from nltk->unstructured) (1.4.2)\n",
            "Requirement already satisfied: regex>=2021.8.3 in /usr/local/lib/python3.11/dist-packages (from nltk->unstructured) (2024.11.6)\n",
            "Collecting olefile (from python-oxmsg->unstructured)\n",
            "  Downloading olefile-0.47-py2.py3-none-any.whl.metadata (9.7 kB)\n",
            "Requirement already satisfied: aiofiles>=24.1.0 in /usr/local/lib/python3.11/dist-packages (from unstructured-client->unstructured) (24.1.0)\n",
            "Requirement already satisfied: cryptography>=3.1 in /usr/local/lib/python3.11/dist-packages (from unstructured-client->unstructured) (43.0.3)\n",
            "Collecting eval-type-backport>=0.2.0 (from unstructured-client->unstructured)\n",
            "  Downloading eval_type_backport-0.2.2-py3-none-any.whl.metadata (2.2 kB)\n",
            "Requirement already satisfied: nest-asyncio>=1.6.0 in /usr/local/lib/python3.11/dist-packages (from unstructured-client->unstructured) (1.6.0)\n",
            "Collecting pypdf>=4.0 (from unstructured-client->unstructured)\n",
            "  Downloading pypdf-5.3.0-py3-none-any.whl.metadata (7.2 kB)\n",
            "Requirement already satisfied: python-dateutil>=2.8.2 in /usr/local/lib/python3.11/dist-packages (from unstructured-client->unstructured) (2.8.2)\n",
            "Requirement already satisfied: cffi>=1.12 in /usr/local/lib/python3.11/dist-packages (from cryptography>=3.1->unstructured-client->unstructured) (1.17.1)\n",
            "Requirement already satisfied: mypy-extensions>=0.3.0 in /usr/local/lib/python3.11/dist-packages (from typing-inspect<1,>=0.4.0->dataclasses-json<0.7,>=0.5.7->langchain_community) (1.0.0)\n",
            "Requirement already satisfied: pycparser in /usr/local/lib/python3.11/dist-packages (from cffi>=1.12->cryptography>=3.1->unstructured-client->unstructured) (2.22)\n",
            "Downloading unstructured-0.16.23-py3-none-any.whl (1.8 MB)\n",
            "   ━━━━━━━━━━━━━━━━━━━━━━━━━━━━━━━━━━━━━━━━ 1.8/1.8 MB 53.3 MB/s eta 0:00:00\n",
            "\u001b[?25hDownloading backoff-2.2.1-py3-none-any.whl (15 kB)\n",
            "Downloading emoji-2.14.1-py3-none-any.whl (590 kB)\n",
            "   ━━━━━━━━━━━━━━━━━━━━━━━━━━━━━━━━━━━━━━━━ 590.6/590.6 kB 34.8 MB/s eta 0:00:00\n",
            "\u001b[?25hDownloading filetype-1.2.0-py2.py3-none-any.whl (19 kB)\n",
            "Downloading python_iso639-2025.2.18-py3-none-any.whl (167 kB)\n",
            "   ━━━━━━━━━━━━━━━━━━━━━━━━━━━━━━━━━━━━━━━━ 167.6/167.6 kB 7.8 MB/s eta 0:00:00\n",
            "\u001b[?25hDownloading python_magic-0.4.27-py2.py3-none-any.whl (13 kB)\n",
            "Downloading python_oxmsg-0.0.2-py3-none-any.whl (31 kB)\n",
            "Downloading rapidfuzz-3.12.1-cp311-cp311-manylinux_2_17_x86_64.manylinux2014_x86_64.whl (3.1 MB)\n",
            "   ━━━━━━━━━━━━━━━━━━━━━━━━━━━━━━━━━━━━━━━━ 3.1/3.1 MB 52.4 MB/s eta 0:00:00\n",
            "\u001b[?25hDownloading unstructured_client-0.30.3-py3-none-any.whl (113 kB)\n",
            "   ━━━━━━━━━━━━━━━━━━━━━━━━━━━━━━━━━━━━━━━━ 113.6/113.6 kB 7.1 MB/s eta 0:00:00\n",
            "\u001b[?25hDownloading eval_type_backport-0.2.2-py3-none-any.whl (5.8 kB)\n",
            "Downloading pypdf-5.3.0-py3-none-any.whl (300 kB)\n",
            "   ━━━━━━━━━━━━━━━━━━━━━━━━━━━━━━━━━━━━━━━━ 300.7/300.7 kB 17.2 MB/s eta 0:00:00\n",
            "\u001b[?25hDownloading olefile-0.47-py2.py3-none-any.whl (114 kB)\n",
            "   ━━━━━━━━━━━━━━━━━━━━━━━━━━━━━━━━━━━━━━━━ 114.6/114.6 kB 8.3 MB/s eta 0:00:00\n",
            "\u001b[?25hBuilding wheels for collected packages: langdetect\n",
            "  Building wheel for langdetect (setup.py) ... \u001b[?25l\u001b[?25hdone\n",
            "  Created wheel for langdetect: filename=langdetect-1.0.9-py3-none-any.whl size=993222 sha256=effc41b4393125e918c6fd68139bf3e9f9c89eaf4048a2fa2c477df622db54b2\n",
            "  Stored in directory: /root/.cache/pip/wheels/0a/f2/b2/e5ca405801e05eb7c8ed5b3b4bcf1fcabcd6272c167640072e\n",
            "Successfully built langdetect\n",
            "Installing collected packages: filetype, rapidfuzz, python-magic, python-iso639, pypdf, olefile, langdetect, eval-type-backport, emoji, backoff, python-oxmsg, unstructured-client, unstructured\n",
            "Successfully installed backoff-2.2.1 emoji-2.14.1 eval-type-backport-0.2.2 filetype-1.2.0 langdetect-1.0.9 olefile-0.47 pypdf-5.3.0 python-iso639-2025.2.18 python-magic-0.4.27 python-oxmsg-0.0.2 rapidfuzz-3.12.1 unstructured-0.16.23 unstructured-client-0.30.3\n"
          ]
        }
      ]
    },
    {
      "cell_type": "code",
      "source": [
        "from langchain_community.document_loaders import UnstructuredMarkdownLoader"
      ],
      "metadata": {
        "id": "fF-exioCjCXu"
      },
      "execution_count": 31,
      "outputs": []
    },
    {
      "cell_type": "code",
      "source": [
        "markdown_path = \"output.md\"\n",
        "loader = UnstructuredMarkdownLoader(markdown_path)"
      ],
      "metadata": {
        "id": "1Plx3ZpvjPHa"
      },
      "execution_count": 32,
      "outputs": []
    },
    {
      "cell_type": "code",
      "source": [
        "data = loader.load()"
      ],
      "metadata": {
        "id": "40zXtSx0jS2u"
      },
      "execution_count": 33,
      "outputs": []
    },
    {
      "cell_type": "code",
      "source": [
        "data[0]"
      ],
      "metadata": {
        "colab": {
          "base_uri": "https://localhost:8080/"
        },
        "id": "Qs_bzVrcjbEk",
        "outputId": "370f6fef-307c-42b8-bdd3-56ad5238436c"
      },
      "execution_count": 34,
      "outputs": [
        {
          "output_type": "execute_result",
          "data": {
            "text/plain": [
              "Document(metadata={'source': 'output.md'}, page_content='Deloitte Insights and the our research centers deliver proprietary research designed to help organizations turn their aspirations into action.\\n\\nDELOITTE INSIGHTS\\n\\nHome\\n\\nSpotlight\\n\\nWeekly Global Economic Outlook\\n\\nTop 10 Reading Guide\\n\\nFuture of Sports\\n\\nTechnology Management\\n\\nGrowth & Competitive Advantage\\n\\nTopics\\n\\nStrategy\\n\\nEconomics\\n\\nEnvironmental, Social, & Governance\\n\\nOperations\\n\\nTechnology\\n\\nWorkforce\\n\\nIndustries\\n\\nMore\\n\\nAbout\\n\\nDeloitte Insights Magazine\\n\\nPress Room Podcasts\\n\\nDELOITTE RESEARCH CENTERS\\n\\nCross-Industry Issues\\n\\nHome\\n\\nWorkforce Trends\\n\\nEnterprise Growth & Innovation\\n\\nTechnology & Transformation\\n\\nEnvironmental & Social Issues\\n\\nEconomics\\n\\nHome\\n\\nConsumer Spending\\n\\nHousing\\n\\nBusiness Investment\\n\\nGlobalization & International Trade\\n\\nFiscal & Monetary Policy\\n\\nSustainability, Equity & Climate\\n\\nLabor Markets\\n\\nPrices & Inflation\\n\\nConsumer\\n\\nHome\\n\\nAutomotive\\n\\nConsumer Products\\n\\nFood\\n\\nRetail, Wholesale & Distribution\\n\\nHospitality\\n\\nAirlines & Transportation\\n\\nEnergy & Industrials\\n\\nHome\\n\\nAerospace & Defense\\n\\nChemicals & Specialty Materials\\n\\nEngineering & Construction\\n\\nIndustrial Manufacturing\\n\\nMining & Metals\\n\\nOil & Gas\\n\\nPower & Utilities\\n\\nRenewable Energy\\n\\nFinancial Services\\n\\nHome\\n\\nBanking & Capital Markets\\n\\nCommercial Real Estate\\n\\nInsurance\\n\\nInvestment Management\\n\\nCross Financial Services\\n\\nGovernment & Public Services\\n\\nHome\\n\\nDefense, Security & Justice\\n\\nGovernment Health\\n\\nState & Local Government\\n\\nWhole of Government\\n\\nTransportation & Infrastructure\\n\\nHuman Services\\n\\nHigher Education\\n\\nLife Sciences & Health Care\\n\\nHome\\n\\nHospitals, Health Systems & Providers\\u200b\\n\\nPharmaceutical Manufacturers\\u200b\\n\\nHealth Plans & Payers\\u200b\\n\\nMedtech & Health Tech Organizations\\n\\nTech, Media & Telecom\\n\\nHome\\n\\nTechnology\\n\\nMedia & Entertainment\\n\\nTelecommunications\\n\\nSemiconductor\\n\\nSports\\n\\n## Economics * TOPICS * Consumer Spending * Housing * Business Investment * Globalization & International Trade * Fiscal & Monetary Policy * Sustainability, Equity & Climate * Labor Markets * Prices & Inflation * OUTLOOKS * World * Africa & the Middle East * Asia & Pacific * Europe * Western Hemisphere * RESEARCH CENTERS * Cross-Industry * Economics * Consumer * Energy & Industrials * Financial Services * Government & Public Services * Life Sciences & Health Care * Tech, Media & Telecom\\n\\nSorry, no results found.\\n\\nSearch Suggestions * Check your spelling * Try more general words * Try different words that mean the same thing Open in new window * For You\\n\\nWelcome!\\n\\nFor personalized content and settings, go to your My Deloitte Dashboard\\n\\nLatest Insights\\n\\nCreating opportunity at the intersection of climate disruption and regulatory change Article • 7-min read Better questions about generative AI Article • 2-min read\\n\\nRecommendations\\n\\nTech Trends 2025 Article TMT Predictions 2025 Article\\n\\nAbout Deloitte Insights\\n\\nAbout Deloitte Insights Deloitte Insights Magazine, issue 33 Magazine\\n\\nTopics for you\\n\\n[ Business Strategy & Growth ](https://www2.deloitte.com/us/en/insights/economy/global-economic-outlook/weekly-update/</us/en/insights/topics/strategy.html?icid=topics-for-you_click>)\\n* [ Leadership ](https://www2.deloitte.com/us/en/insights/economy/global-economic-outlook/weekly-update/</us/en/insights/topics/leadership.html?icid=topics-for-you_click>)\\n* [ Operations ](https://www2.deloitte.com/us/en/insights/economy/global-economic-outlook/weekly-update/</us/en/insights/topics/operations.html?icid=topics-for-you_click>)\\n* [ Marketing & Sales ](https://www2.deloitte.com/us/en/insights/economy/global-economic-outlook/weekly-update/</us/en/insights/topics/marketing-and-sales-operations.html?icid=topics-for-you_click>)\\n* [ Diversity, Equity, & Inclusion ](https://www2.deloitte.com/us/en/insights/economy/global-economic-outlook/weekly-update/</us/en/insights/topics/value-of-diversity-and-inclusion.html?icid=topics-for-you_click>)\\n* [ Emerging Technologies ](https://www2.deloitte.com/us/en/insights/economy/global-economic-outlook/weekly-update/</us/en/insights/topics/emerging-technologies.html?icid=topics-for-you_click>)\\n* [ Economy ](https://www2.deloitte.com/us/en/insights/economy/global-economic-outlook/weekly-update/</us/en/insights/economy.html?icid=topics-for-you_click>)\\n\\nWatch & Listen\\n\\nDbriefs Stay informed on the issues impacting your business with Deloitte\\'s live webcast series. Gain valuable insights and practical knowledge from our specialists while earning CPE credits.\\n\\nDeloitte Insights Podcasts Join host Tanya Ott as she interviews influential voices discussing the business trends and challenges that matter most to your business today.\\n\\nSubscribe\\n\\nDeloitte Insights Newsletters Looking to stay on top of the latest news and trends? With MyDeloitte you\\'ll never miss out on the information you need to lead. Simply link your email or social profile and select the newsletters and alerts that matter most to you.\\n\\nArticle • 31 October 2023 • Deloitte Global Economics Research Center * Share * linkedin * twitter * facebook * pinterest * email * Print\\n\\nWeekly global economic update\\n\\nWhat’s happening this week in economics? Deloitte’s team of economists examines news and trends from around the world.\\n\\nIra Kalish\\n\\nUnited States\\n\\nIra Kalish\\n\\nChief Global Economist, Deloitte Touche Tohmatsu United States Dr. Kalish is the Chief Global Economist of Deloitte Touche Tohmatsu Ltd. He is a specialist in global economic issues as well as the effects of economic, demographic, and social trends on the global business environment. He advises Deloitte clients as well as Deloitte’s leadership on economic issues and their impact on business strategy. In addition, he has given numerous presentations to corporations and trade organizations on topics related to the global economy. He is widely traveled and has given presentations in 47 countries on six continents. He has been quoted by the Wall Street Journal , The Economist , and The Financial Times. Dr. Kalish holds a bachelor’s degree in economics from Vassar College and a PhD in international economics from Johns Hopkins University. ikalish@deloitte.com *\\n\\nWeek of October 30, 2023\\n\\nUS economy shows strength. But will it last?\\n\\nUS household income falls, spending rises, and underlying inflation decelerates\\n\\nEuropean Central Bank (ECB) leaves rates unchanged\\n\\nMigration to advanced economies soars, with important implications\\n\\nUS economy shows strength. But will it last?\\n\\nThe US economy experienced rapid growth in the third quarter. This was expected given the favorable monthly and higher frequency data that had been released in the past three months. Real (inflation-adjusted) GDP grew at an annual rate of 4.9%, the fastest growth since the fourth quarter of 2021. Over 80% of the increase in real GDP can be attributed to consumer spending and inventory accumulation. Business investment failed to grow, with rising investment in equipment and intellectual property offset by declining investment in equipment. Exports saw strong growth, as did government purchases.\\n\\nWhile extremely favorable, and not unexpected, many analysts see third-quarter growth as a sort of last hurrah before a significant slowdown in the coming quarters. One reason is that, although consumer spending grew rapidly, real disposable household income fell in the third quarter. This suggests that the current rate of consumer spending growth cannot be sustained. Another reason is that the weakness of business investment suggests that tight monetary policy is finally having a dampening effect on business activity.\\n\\nEconomy Explore from Deloitte Insights’ economics collection\\n\\nIn any event, let’s look at the numbers: First, real consumer spending grew at a rate of 4%, including a 7.6% increase in purchases of durable goods, a 3.3% increase for nondurable goods, and a 3.6% increase in services. More than half of the increase in spending on durable goods was due to recreational goods and vehicles. The stellar rise in consumer spending comes amidst a 1% decline in real disposable income. It necessarily entails a dip into household savings. Meanwhile, real nonresidential fixed investment fell at a rate of 0.1%. This included a 1.6% increase in spending on structures (office buildings, shopping centers, factories, warehouses) and a 2.6% increase in spending on intellectual property (software, R&D). Yet spending on equipment (computers, telecoms, industrial goods, transport goods) fell at a rate of 3.8%. The latter number might explain why there has been a decline in business demand for our consulting services. In addition, inventory investment was strong, contributing 1.3 percentage points to GDP growth. Finally, real exports of goods and services increased at a rate of 6.2%, including a 7.5% rise for goods and a 3.7% rise for services. Imports increased at a rate of 5.7%. As imports exceed exports, trade had a modest negative impact on GDP growth. Also, real government purchases increased at a rate of 4.6%, including an 8% rise in military purchases, a 3.9% rise in nondefense Federal purchases, and a 3.7% increase in purchases by state and local governments. Government purchases contributed 0.8 percentage points of growth. Notably, the price deflator for consumer spending increased at an annual rate of 2.9% in the third quarter. This is up slightly from the second quarter. Yet when volatile food and energy prices are excluded, core prices were up at a rate of 2.5%, the lowest since the fourth quarter of 2020. It is remarkable to have such strong growth in spending accompanied by a further deceleration in inflation. This is the definition of a soft landing. But will it be sustained? That is the big question. There is a consensus among forecasters that GDP growth will decelerate sharply in the fourth quarter. This is due to the significant gap between income growth and consumer spending in the third quarter. It is not expected that this can be sustained. Plus, the weakening of business investment is a warning sign of trouble to come. In addition, there is an expectation that, the longer high interest rates continue, the greater the impact they will have on interest-sensitive sectors of the economy. However, the latest purchasing managers’ indices (PMIs) for October, which were better than in September, suggest that the US economy started the fourth quarter on a positive note. The GDP report did not have a big impact on financial markets given that investors had anticipated strong growth. As such, it is not expected that this report will influence what the Federal Reserve does at its next meeting. Still, the rapid growth of GDP after a prolonged period of monetary tightening is unusual and helps to explain relatively high bond yields. * The GDP report was not the only signal of US economic strength. The government reported that, in the week ending October 21, 210,000 initial claims for unemployment insurance were filed. While up 10,000 from the previous week, this remains a relatively low level compared to the last several months. As such it signals a continuation of a strong labor market.\\n\\nAlso, the government reported that, in September, sales of new homes were up 12.3% from the previous month and up 33.9% from a year earlier. Sales reached the highest level since February 2022. High mortgage interest rates have led existing homeowners to recoil from selling their properties. The result is a paucity of inventory of existing homes, thereby dampening sales of existing homes and driving up prices of existing homes. That, in turn, led homebuilders to boost construction. The result of all of this is that sales of new homes are soaring, although the median price of new homes sold has fallen. Also, the inventory of unsold new homes has fallen sharply. That, in turn, should boost further construction activity.\\n\\nUS household income falls, spending rises, and underlying inflation decelerates\\n\\nIn the United States, real consumer income has been declining for the past three months but consumer spending has continued to rise. That happened because there was a steady decline in the personal savings rate. This suggests that, going forward, consumer spending growth could slow down. The US government recently reported September data on personal income and expenditures as well as the Federal Reserve’s favorite measure of inflation. Here are the details:\\n\\nIn September, real (inflation-adjusted) disposable household income fell 0.1% from the previous month. This followed declines of 0.1% in August and 0.2% in July. Meanwhile, real personal consumption expenditures increased 0.4% in September versus the previous month. This followed increases of 0.1% in August and 0.6% in July. The personal savings rate fell from 4.9% in June, to 4.1% in July, 4% in August, and finally 3.4% in September. Going forward, if real income continues to decline or stagnate, spending can only increase if the savings rate declines further. It is not clear if households will go down that path. On the other hand, with inflation continuing to decelerate, real wages are starting to rise. Plus, employment continues to grow. Thus, it is possible that real income will rebound, thereby providing fuel for consumer spending. One hiccup could be the fact that payments of student debt started this month. That will likely reduce the availability discretionary funds for households. One uncertainty is the price of oil. If it goes up, perhaps due to wider conflict in the Middle East, that would have a dampening effect on US consumer spending. Real spending on durable goods increased 1.1% in September versus the previous month while real spending on nondurable goods was up 0.2%. Real spending on services increased 0.3%. The rebound in durables spending, which began in March, is notable as it comes after a sustained period of weak or declining spending on durables. It is worth noting that, as of September, real spending on durables was 5.5% above a year earlier and a stunning 29.4% above the prepandemic level. Meanwhile, real spending on services in September was 2.4% above a year earlier and only 5.8% above the prepandemic level. Thus, there has been a significant shift in the composition of consumer spending. The government also reported on the Federal Reserve’s favorite measure of inflation, the personal consumption expenditure deflator, or PCE-deflator. In September, it was up 3.4% from a year earlier, the same as in July and August and higher than the 3.2% increase in June. This stabilization had to do with rising energy prices. Yet when volatile food and energy prices are excluded, core inflation continued to decelerate. Core inflation was 4.3% in July, 3.8% in August, and 3.7% in September—the lowest level since May 2021. Thus, it appears that progress on underlying inflation continues. This fact is likely to influence next week’s decision on monetary policy by the Federal Reserve.\\n\\nEuropean Central Bank (ECB) leaves rates unchanged\\n\\nAfter ten consecutive increases in its benchmark interest rates, the ECB yesterday chose to keep rates steady. This surprised no one. The benchmark rate is now 4%, up from –0.5% before the start of monetary tightening. This decision comes amidst a steady decline in inflation and an evident weakening of the Eurozone economy. The ECB decision also comes a week before the US Federal Reserve and the Bank of England make policy announcements. It is widely expected that both central banks will also keep rates steady after the Bank of Canada left rates unchanged last week.\\n\\nStill, the fight against inflation is not over. The ECB commentary indicated that “inflation is still expected to stay too high for too long, and domestic price pressures remain strong.” Yet it believes that the tightening of policy that has already taken place will have the desired impact. It said that “the Governing Council’s past interest rate increases continue to be transmitted forcefully into financing conditions. This is increasingly dampening demand and thereby helps push down inflation.” One important reason not to tighten further is that doing so might push the economy into a deeper downturn. On the other hand, declining inflation could help to restore economic activity by boosting real wages. In her press conference, ECB President Christine Lagarde said that “the economy is likely to remain weak for the remainder of this year. But as inflation falls further, household real incomes recover and the demand for euro area exports picks up, the economy should strengthen over the coming years.” She also noted that, to the degree that the Eurozone economy has been stable, it has much to do with the strong labor market. The principal way that monetary policy is transmitted is through credit markets. Lagarde noted that “higher borrowing rates, with the associated cuts in investment plans and house purchases, led to a further sharp drop in credit demand in the third quarter, as reported in our latest bank lending survey. Moreover, credit standards for loans to firms and households tightened further. Banks are becoming more concerned about the risks faced by their customers and are less willing to take on risks themselves.” She also noted that monetary policy influences credit markets with a lag and that further weakening of credit markets could take place. “We know that there is still more to come,” Lagarde said.\\n\\nMigration to advanced economies soars, with important implications\\n\\nIn many advanced economies, a shortage of labor is driving up wages, thereby sustaining inflation above central-bank targets. The goal of weakening labor markets, and therefore wage pressure, is one reason central banks intend to keep short-term interest rates at an elevated level for a prolonged period. Yet one potential solution to the labor shortage is migration.\\n\\nIn fact, the OECD reports that, in 2022, permanent migration to advanced economies increased 26% from the previous year, hitting 6.1 million. The increase was 59% in Germany and 39% in the United States. This was the highest level since the OECD started keeping records in 2005. This migration contributed to strong employment growth in many countries. In the United States, foreign-born workers accounted for half of employment growth since 2020. The countries that received the greatest number of permanent migrants as a share of their populations in 2022 were Luxembourg, Iceland, New Zealand, Estonia, and Switzerland. Also, the OECD reports a record number of asylum applications, rising from 1.7 million in 2021 to over two million in 2022. In the United States, the number of applications increased from 190,000 in 2021 to 730,000 in 2022. In Europe, there was also a surge of applicants from Ukraine. In fact, as of June 2023, there were 4.7 million displaced Ukrainians in OECD countries, with Germany and Poland hosting the largest number. A disproportionate share of the Ukrainian refugees are women. However, the biggest sources of asylum applicants in 2022 were Venezuela, Cuba, Afghanistan, and Nicaragua. Although the flow of migrants has significant economic benefits, it can cause political backlash. Consequently, several OECD have implemented new restrictions on asylum-seekers and permanent migrants. Migration policy is expected to play a big role in determining the speed of economic growth in OECD countries in the coming years. Migration boosts employment and addresses demographic issues. That is, it increases the ratio of workers to retirees, thereby reducing pressure on pension and health care expenditures for the elderly. The problem of demographics is particularly acute in Europe. Spain’s minister responsible for migration policy, Jose Luis Escriva, said that, just to stabilize the population of the European Union (EU), there will need to be 50 million permanent migrants in the next 25 years. He said that this will be needed “simply for the maintenance of the welfare state.” Yet, in Europe, the rise of populist political parties in several countries is, in part, due to aversion to increased immigration.\\n\\nWeek of October 23, 2023\\n\\nUS financial markets react to Powell, economy, and Middle East\\n\\nUS retail sales show unexpected strength\\n\\nStrong US household finances contribute to spending\\n\\nChinese economy shows some signs of improvement\\n\\nChinese inflation and trade data point to weakness\\n\\nUS financial markets react to Powell, economy, and Middle East\\n\\nThere is new volatility in financial markets in the United States. The 10-year breakeven rate, which measures bond investors expectations of inflation over the coming 10 years, has suddenly increased to the highest level since March. Meanwhile, the Chicago Fed financial conditions index, which measures the degree to which US financial markets are tight or easy, is now at the best reading since early 2022. And yet the yield on the 10-year Treasury bond briefly passed the psychologically important 5% threshold for the first time since 2007. What is happening?\\n\\nVolatility often happens when there is uncertainty, or when there is a plethora of new information that investors are hard-pressed to absorb. Both are true now. First, Fed Chair Powell, in an interview recently, strongly hinted that there will not be another rate hike at the next meeting of the Federal Open Market Committee (FOMC), which is the Fed’s principal policy vehicle. He acknowledged that the bond market is helping the Fed to do its job. When asked why traders have boosted bond yields, he said that “they’re revising their view about the overall strength of the economy and thinking even longer term it may require higher rates.” He also noted fiscal deficits and Fed bond sales as likely contributing to higher yields. His comments likely contributed to higher expectations of inflation and a perception of more benign financial conditions. Also, recent data pointed to greater strength of the US economy. This included the stellar retail sales report recently. In addition, the latest report on initial claims for unemployment insurance indicated a surprisingly healthy job market. The number of weekly initial claims fell below 200,000 for the first time since January. These indicators of robust economic performance likely contributed to higher expectations of inflation. That, in turn, boosted bond yields. Powell said that “we are attentive to recent data showing the resilience of economic growth and demand for labor. Additional evidence of persistently above-trend growth, or that tightness in the labor market is no longer easing, could put further progress on inflation at risk and could warrant further tightening of monetary policy.” Evidently, investors interpreted the data as such. Importantly, investors are closely watching the events in the Middle East, looking for potential signs of a larger conflict and/or greater instability, including Israel ordering the evacuation of Kiryat Shimona, a village close to the Lebanese border, and the United States shooting down a missile launched from Yemen. Meanwhile, anti-Israel protests are growing in the Middle East while attacks on both Arabs and Jews in Europe and the United States are rising. Plus, Western government are reported to be concerned that the prevailing conditions could lead to a revival of terrorism. Despite all this, oil prices are relatively well-behaved. Evidently, investors are not yet worried about a significant supply shock in the oil market. What happens next in financial markets? It depends, of course, on what the Fed does, how economies perform, and what happens in the Middle East. Notably, the 10-year two-year yield curve in the United States, which inverted 15 months ago, is heading in the direction of reverting to positive territory. Likewise, the 10-year three-month yield curve, which inverted a year ago, is moving in a similar direction. Historically, it has usually been the case that a recession began not long after an inversion ended. Moreover, the current inversion is the steepest since 1981, which augured the very deep recession of 1981–82. Still, inverted yield curves do not cause recessions. They merely reflect shifts in monetary policy. In this case, despite significant monetary tightening, financial conditions remain relatively benign, the economy continues to grow, and balance sheets are strong. Fed Chair Powell noted that monetary policy acts with a lag, saying that “there’s no precision in our understanding of how long lags are. So, we should be seeing the effects. By the way, they don’t just all arrive on one day.”\\n\\nUS retail sales show unexpected strength\\n\\nRetail sales in the United States performed very well in September, leading investors to upwardly revise their expectations for third-quarter GDP growth. The strength of retail sales also contributed to a rebound in bond yields as investor expectations that the Federal Reserve will keep monetary policy tight for longer were reinforced. Yet, interestingly, the retail sales numbers indicated that the strength of spending was relatively concentrated in a handful of sectors. Those sectors that are influenced by the housing market performed quite poorly.\\n\\nHere are the details: In September, retail sales (not adjusted for inflation) were up 0.7% from the previous month, clearly faster than inflation. Moreover, unlike in August, most of the increase was not related to a surge in gasoline prices. Although retail sales at gasoline stations increased 0.9%, retail sales excluding gasoline stations were up 0.7%. Overall retail sales were up 3.8% from a year earlier while gasoline station sales were down from a year earlier. The strongest retail categories were motor vehicle and parts dealers (up 1%), drugstores (up 0.8%), nonstore retailers (up 1.1%), and food service (up 0.9%). On the other hand, sellers of home-related products faltered due to weak turnover in the housing market. Spending was down 0.8% at electronics and appliance stores, down 0.2% at building materials stores, and unchanged at furniture stores. In addition, sales at apparel stores were down 0.8% while sales at department stores were unchanged. The data suggests that, although a tight monetary policy has potentially weakened the housing market and, consequently, weakened related retail sectors, consumer engagement likely remains healthy. This likely reflects continued significant employment gains, rising real wages, and confidence about the job market and about household finances. On the other hand, recent weak data on credit card transactions led many observers to expect a weak retail sales report in September. That didn’t happen. The discrepancy between retail sales numbers and credit transaction data suggests either consumers engaged in more cash transactions or one set of data has flaws. In addition, there are other potential headwinds for retail spending going forward. For example, this month payments on student debt resumed, thereby subtracting from household discretionary income. In addition, although credit card transactions fell in September, the volume of credit card debt is up while delinquencies have hit an 11-year high. Finally, the future path of oil prices is a wild card. If prices rebound again, this will eat into household nongasoline expenditures. Regardless of the headwinds, the reality is that retail sales performed better in September than many observers expected. One result was that bond yields surged on expectations that a more resilient economy will compel the Federal Reserve to keep rates higher for longer. Finally, the strong retail sales numbers affirmed the expectation of many economists that third-quarter GDP growth will be very strong when reported later this month. On the other hand, there remains pessimism about the fourth quarter.\\n\\nStrong US household finances contribute to spending\\n\\nThe US Federal Reserve conducts a survey of household finances every three years. It has published the latest survey data for 2022 and the results indicate a dramatic surge in household wealth from 2019 to 2022. Specifically, US household net worth (total value of all assets minus debts) increased from US$141.1 trillion in 2019 to US$192.7 trillion in 2022, or up 37%. This was the largest three-year increase since the survey began in 1989.\\n\\nMoreover, 2022 was the first year since before the global financial crisis (GFC) of 2008–10 in which household net worth exceeded the level of 2007. During the GFC, net worth fell sharply and only started to rise gradually after 2013. Yet during the pandemic, net worth evidently took off. This was driven by sizable increases in equity and home prices during the period 2020–2022, although asset prices have since receded as the Federal Reserve has tightened monetary policy. Notably, the surge in wealth took place across various demographic cohorts. For example, wealth increased for all age groups, but especially sharply for those between 55 and 64. Wealth also increased for all racial/ethnic groups and all income groups. Interestingly, however, wealth barely increased for people who are self-employed. The surge in wealth helps to explain the strength of consumer spending in the past two years. Until early this year, real (inflation-adjusted) wages were declining. Yet consumer spending continued to grow, likely due to increased wealth as well as growing employment. Moreover, in the past year households have accelerated borrowing, likely influenced by the perception that their balance sheets are relatively healthy. The strength of household balance sheets is one of the reasons that the US economy has been resilient in the face of tightened monetary policy.\\n\\nChinese economy shows some signs of improvement\\n\\nChina released new economic data that indicates a modest rebound in growth. Xu Sitao, chief economist of Deloitte China, wrote that:\\n\\nThird quarter GDP growth came in at 4.9% (higher-than-expected growth of 4.5%), putting GDP growth in the first three quarters of 2023 at 5.2%. If China could achieve 4.4% in the fourth quarter, which seems a distinct possibility, the government’s 2023 GDP growth target of “around 5%” will be met. In the third quarter, growth was propelled by fixed asset investment (with a cumulative year-over-year growth of 3.1% in the first three quarters) and consumer spending with retail sales increasing by 5.5% in September. However, as expected, investment in the property sector remains a drag on growth. Trade data for September, which was released last week (exports decreased by 6.2%), suggested that drastic declines in exports have stabilized. Despite the modestly favorable news, a Chinese official acknowledged that headwinds remain. He said that “we should be aware that the external environment is becoming more complex and grave while the domestic demand remains insufficient and the foundation for economic recovery and growth needs to be further consolidated.” Xu Sitao says that “we see 2023 GDP growth around 5.1% and 2024 growth at 4.5%.” By the standards of almost any other country, Xu’s forecast would be considered strong. Yet compared to China’s recent past, it would be a significant deceleration. Moreover, the question remains as to whether this level of growth will be sufficient to enable China to address serious imbalances in the economy. These involve the financial spillover effects of the problems in the residential property market. Although the government has taken steps to stabilize the property market, the best hope for avoiding serious financial disruption is stronger economic growth. Let’s look at the latest data beyond GDP: First, in September, retail sales were up 5.5% from a year earlier, the best performance since May. Moreover, given that there is almost no inflation in China, this was a big volume increase. Sales were up a strong 9.9% for apparel and footwear, 7.7% for jewelry, 8.3% for food, and 23.1% for tobacco. Yet sales fell in categories related to the home market. For example, sales of appliances were down 2.2%, and sales of building materials fell 8.2%. Thus, the residential property market continues to be a drag on consumer spending. In addition, fixed asset investment was up 3.1% in the first nine months of 2023 versus a year earlier. It was the slowest growth of investment since early in the pandemic. Private sector investment was down 0.6%. Property investment was down 9.1%. On the other hand, investment in manufacturing was up 6.2%. Indeed, industrial production continued to grow at a moderate pace in September, up 4.5% from a year earlier, the same as in the previous month. Output in some industries grew very rapidly. For example, output of electrical machinery and equipment was up 11.5% while automotive output was up 9%. Thus, there are pockets of strength in the Chinese economy, in part fueled by government support for key sectors.\\n\\nChinese inflation and trade data point to weakness\\n\\nChina’s economy continues to suffer from an absence of inflation. Why do I say suffer? The answer is that most economists see a little bit of inflation as a good thing, something that will grease the wheels of commerce and allow more price flexibility. It also avoids excessively high real (inflation-adjusted) interest rates. Moreover, zero or negative inflation is often a sign of especially weak demand and/or excess capacity. Thus, it is concerning that, in September, consumer prices were unchanged from a year earlier.\\n\\nThe absence of inflation was partly due to a sharp decline in food prices, which fell 3.2% in September versus a year earlier. This included a 22% decline in pork prices. The drop in food prices offset a rise in energy prices. Absent food and energy prices, core prices were up 0.8% in September versus a year earlier, a very low number. Consumer prices were up 0.2% from the previous month, the third consecutive month of month-to-month increases. Prior to July, consumer prices had been declining on a month-to-month basis for five months. In addition, producer prices were down 2.5% in September versus a year earlier. The weakness of inflation likely reflects a combination of weak consumer demand and rising industrial capacity. Consumers have lost wealth due to the decline in home prices. To offset this, they have increased their saving, thereby suppressing spending growth. * Chinese exports continued to decline in September, but at a slower pace than in August. In September, exports fell 6.2% from a year earlier, when evaluated in US dollars. This was better than the 8.8% decline in August. In only two of the last 12 months did exports grow from a year earlier. The weakness of exports reflects a weakening global economy, the impact of worsening trade relations with the US and Europe, and a shift in supply chain investment away from China.\\n\\nThe decline in exports was especially sharp for China’s most important trading partners. Exports to Southeast Asia fell 15.8%, exports to the United States fell 9.3%, and exports to the European Union fell 11.6%. Exports to Japan fell a more modest 6.4% while exports to Taiwan were down only 4.1%. Exports to Russia, on the other hand, were up 21%, demonstrating the evolving relationship between Russia and China. Meanwhile, imports fell 6.2% in September from a year earlier, better than the 7.3% decline in August. This was the eighth consecutive annual decline in imports. There was a sharp decline in imports of many commodities such as copper, partly reflecting declining commodity prices and partly reflecting weak domestic demand. However, imports of crude oil were up due to higher prices. By country, imports were down 12.6% from the United States, down 7% from Southeast Asia, down 13.7% from Japan and down 14.8% from Taiwan. On the other hand, imports were up 0.6% from the European Union and up 12.7% from Russia.\\n\\nWeek of October 16, 2023\\n\\nUS underlying inflation continues to weaken\\n\\nWhy did bond yields decline recently?\\n\\nInternational Monetary Fund warns on the impact of high bond yields\\n\\nGermany faces several headwinds\\n\\nIMF warns about the global impact of China’s residential property crisis\\n\\nChina’s Golden Week fails to boost economy\\n\\nOECD says rise in labor market participation could ease wage gains\\n\\nUS underlying inflation continues to weaken\\n\\nRecent headlines suggested that US inflation is not getting better. This followed the US government’s release of inflation data for September. It indicated that, in September, the consumer price index (CPI) was up 3.7% from a year earlier, the same as in August. Yet the headlines failed to note what happened to core, or underlying, inflation. Core inflation excludes the impact of volatile food and energy prices. In September, core prices were up 4.1% from a year earlier, down from 4.3% in August. Thus, core inflation continues to make gradual progress. It is important how last week’s report is interpreted, especially by the leaders of the Federal Reserve. They will decide later this month on interest rate policy, in part based on how they interpret the latest inflation data.\\n\\nFirst, let’s consider the data. In September, consumer prices were up 3.7% from a year earlier and up 0.4% from the previous month. Energy prices were down 0.5% from a year earlier but up 1.5% from the previous month. That followed a 5.6% jump in August from the previous month. Those two months of rising energy prices contributed to a rebound in inflation and were due to rising crude oil prices. Yet crude prices are down sharply since late September. This usually bodes well for a decline in the energy component of the CPI and, consequently, a decline in annual inflation.\\n\\nEconomy Explore from Deloitte Insights’ economics collection\\n\\nMeanwhile, and very importantly, core prices were up 4.1% in September versus a year earlier, lower than in August. Core prices were up 0.3% from the previous month. As previously, the preponderance of inflation is in services. Prices of durable goods fell 2.2% from a year earlier while nondurables were up a modest 3.2%. Service prices, however, were up 5.2% from a year earlier, largely due to the continued sharp rise in the price of shelter (housing). Shelter was up 7.2% from a year earlier. If shelter is excluded, service prices were up a modest 2.8%. If shelter is excluded from headline inflation, then overall inflation was only 2%. Recent statements by various Fed leaders suggest a bias toward leaving rates unchanged at the next meeting. Yet if Fed leaders perceive inflation to be stuck, they might lean toward raising rates. The most recent report, however, suggests otherwise, at least based on the core measure of inflation. Moreover, as some Fed leaders have indicated, the surge in bond yields is doing the Fed’s job, thereby reducing the likelihood of a rate hike. Also, Fed leaders are likely pleased that core producer price inflation has stabilized at a low level. Core producer prices were up 2.8% in September from a year earlier, down from 2.9% in the previous month. In addition, core producer prices were up only 0.2% from the previous month. The modest level of producer price inflation bodes well for consumer price inflation as producer prices feed into consumer prices. Still, the Fed’s biggest concern regarding inflation is the state of the labor market. It remains tight. Job growth was strong in September and the job openings rate rose in August from the previous month. In addition, labor unrest continues to grow, with strikes happening in such industries as automotive, health care, and entertainment. Yet despite this, labor cost inflation continues to gradually recede—and that is exactly what the Fed wants. Therefore, will the Fed raise interest rates because labor market conditions are tight? Or will the Fed leave interest rates unchanged because tight labor market conditions are not causing an acceleration in wages? We will have to see.\\n\\nWhy did bond yields decline recently?\\n\\nSince the Hamas attack on Israel, bond yields have fallen sharply—not only in the United States, but in other advanced economies as well. Still, the drop in US yields is much bigger. This can be explained by the traditional flight to safety that usually follows a disruptive geopolitical event. In this case, the Hamas attack on Israel created fear that a larger conflagration might be imminent. Hence, investors purchase US Treasuries, pushing down yields.\\n\\nYet the large drop in US yields last week might have other reasons. First, the president of the Federal Reserve Bank of Dallas said that the recent sharp rise in bond yields reduces the need for the Fed to raise short-term rates. Investors may have absorbed her comments as potentially signaling a shift in Fed policy. Second, the latest inflation data suggests that underlying inflation is improving, thereby reducing the need for further monetary tightening. Third, despite a strong employment report for September, the most recent purchasing managers’ indices suggest that the US economy is slowing and might be barely growing as we enter the fourth quarter. This also augurs a shift in Fed policy. As such, some investors are now betting that the Fed’s last interest rate hike that took place in July could be the last for this cycle. Even if not, very few investors expect that the Fed will hike rates more than one more time. The drop in bond yields reflects this shifting expectation. In any event, the drop in bond yields contributed to a rebound in equity prices.\\n\\nInternational Monetary Fund warns on the impact of high bond yields\\n\\nMeanwhile, in its semi-annual Global financial stability report, the IMF warned that the recent sharp rise in bond yields, even if partially reversed, could pose a threat to financial market stability. The IMF’s head of monetary and capital markets said that “when you see large moves that are very fast, it has more potential to trigger instability, because market participants have to reposition and there are these accelerators in the system that could kick in. Hopefully, calm will prevail at some point, but there is certainly heightened risk [now].” He urged regulators in member countries to be alert to potential risks.\\n\\nHigher bond yields have the potential to create problems for medium-sized commercial banks. In some cases, higher yields will require that asset values be downgraded due to mark-to-market requirements. In addition, higher yields could cause an increase in defaults on commercial property mortgages. This, too, would have a negative impact on some banks. The IMF warned that this could lead to an “adverse feedback loop” in which declining asset values cause a seizing up of credit markets. On the other hand, US Treasury Secretary Yellen said that higher yields have, so far, not created any dysfunction in financial markets. She said, “I haven’t seen any evidence of dysfunction in connection with the increase in interest rates. When rates are more volatile, sometimes you see some impact on market function, but that is pretty standard.” Yields had especially risen following last week’s release of an unexpectedly strong jobs report. Yet Yellen said the report was good news, not bad news. Moreover, she noted that, despite strong demand for labor, wage inflation has abated somewhat while core inflation continues to be “well-behaved.” She said that the strong job growth was related to an increase in participation, not necessarily overheating in the labor market. Finally, the IMF appears to be leaning against the prevailing wisdom of investors. That is, while many investors are starting to expect the Federal Reserve to limit monetary-policy tightening. The IMF’s chief economist called on the Fed to stay the course. Pierre Olivier Gourinchas said that “what is really important is that monetary policy remains in tightening territory. The cost of easing too early is probably higher than the cost of tightening a little more, especially when you have an economy that keeps surprising to the upside.” Not only did Gourinchas call on the US Federal Reserve to keep rates high; he also said the same about other major central banks.\\n\\nGermany faces several headwinds\\n\\nThe German economy is not growing. The government expects that, in 2023, real GDP will have declined 0.4%. The principal culprit is the energy shock that followed the start of the war in Ukraine. First there was a very sharp rise in natural gas prices. This fueled inflation and led the European Central Bank (ECB) to tighten monetary policy. Then, even after gas prices receded, they remained above the prewar level, thereby hurting the competitiveness of heavy industry that had relied on cheap Russian gas. This, in turn, hurt investment on the part of chemical and automotive companies. Moreover, the slowdown in the global economy, and especially the slowdown in China, have hurt German exports. Overall, German industrial output is down 12% since 2018.\\n\\nYet now, Germany faces two other headwinds. First, following the Hamas attack on Israel, one of two Israeli offshore gas terminals was shut down due to its proximity to Gaza. Initially, this caused European gas prices to surge 20% since the previous week. That, in turn threatens to revive inflation and shift the trajectory of ECB monetary policy. In addition, a gas pipeline connecting Finland to Estonia, which supplies gas to the rest of Europe, has been damaged. Finland’s prime minister says the damage is due to “external activity,” possibly sabotage. In any event, this reduces the potential flow of gas to Germany. Second, Germany faces a labor shortage. This is not usually consistent with a decline in GDP. Yet, similar to other advanced economies, the supply of labor was suppressed during the pandemic and has not returned to the desired level. The result is upward and inflationary pressure on wages, and limited ability to boost output. Germany’s economics minister, Robert Habeck, said that “companies are desperately looking for workers, craft businesses have to reject orders, and shops and restaurants have to limit their opening hours. And it’s not just about skilled workers—we notice in every possible corner that we simply lack workers.” Habeck’s comments come while there is a surge in illegal immigration that is disrupting German politics. The unexpectedly strong showing of the AfD, Germany’s far right political party, is directly related to concerns about migration from the Middle East. Part of the problem is that tight labor market regulations are inhibiting migrants from working, although they are receiving government benefits. Thus, the migration is not helping to address the structural problem of limited labor supply. Habeck said that the shortage of skilled labor is Germany’s “most pressing structural problem.” Yet regarding the illegal immigration, he said that “there are some reservations about it, and it is completely clear that we need better control over who comes into the country and that those who are not allowed to stay must leave quickly.” Clearly, this is a tough political issue for the government.\\n\\nIMF warns about the global impact of China’s residential property crisis\\n\\nIn its recent report on financial stability, the IMF focused on the situation in China’s residential property market. It suggested that the imbalances in this market pose a risk not only to China’s recovery, but also to the global financial system and the global economy as well. The IMF suggested that potential problems in servicing developer debt as well as debts incurred by local governments in support of property development could unravel the global economy’s soft landing.\\n\\nThe IMF said that “in China, weakening economic momentum, a deepening property-sector downturn, and growing strains on local-government financing weigh heavily on market sentiment.” It warned of a potential “sharp repricing of assets” if action isn’t taken to resolve the situation. It said that “continued turmoil in the property sector could spread to the financial sector and to local governments with significant dependence on property-related revenues, weighing on the already-weakening recovery.” The IMF recommended that China support the completion of existing projects, which the government is already doing. In addition, the IMF said that developers will need to be restructured. It said that the Chinese central bank’s easing of monetary policy has not yet had the desired impact. Meanwhile, the warnings regarding China’s property market came as the IMF downgraded its forecast for Chinese economic growth. In its periodic World Economic Outlook, the IMF said that China’s economy will grow 5% this year and 4.2% in 2024—both a downward revision from the last forecast. It said that, although “the likelihood of a hard landing has receded, ... the balance of risks to global growth remains tilted to the downside. China\\'s property sector crisis could deepen, with global spillovers, particularly for commodity exporters.” The IMF noted that commodity exporters are especially at risk from weakness in the Chinese economy. Indeed, it sharply lowered its forecast for growth in Southeast Asia. On the other hand, weaker commodity prices would have a beneficial impact on global inflation. Lower commodity prices would also be beneficial to commodity exporting countries. Indeed, the IMF upwardly revised growth expectations for India.\\n\\nChina’s Golden Week fails to boost economy\\n\\nA quarter of a century ago, the Chinese government created a series of weeklong national holidays meant to stimulate the domestic tourism industry. These holidays are known as Golden Week. The latest, which began at the beginning of this month and ended this past Friday, was expected to boost economic activity as consumers spend more on travel, leisure, restaurant meals, and hotels. Yet initial reports suggest that this year’s holiday week was not as strong as hoped.\\n\\nIt is reported that, during this October holiday, 826 million people made trips. This was up 71.3% from a year ago when China was in the middle of severe COVID-19–related restrictions, but only 4.1% higher than in 2019 just prior to the pandemic. Tourist-related spending was 753.4 billion renminbi, only 1.5% higher than in 2019. This was considerably lower than expected. Also, the number of people entering or leaving the country during Golden Week was down about 15% from the prepandemic period. In addition, Golden Week is usually the peak season for housing market transactions. Yet in 35 major cities, the volume of new home sales measured in square meters of floor space was down 20% from a year earlier and down from 2019. Thus, the troubles in the property market remain. The weakness of household spending during Golden Week likely reflects housing market troubles that have resulted in a decline in home prices, thereby hurting household wealth. Property accounts for about 60% of household wealth. The result has been a sharp increase in household saving and weak growth in spending.\\n\\nOECD says rise in labor market participation could ease wage gains\\n\\nIn many advanced economies, central banks continue to pursue tight monetary policies because they are worried about the impact of very tight labor markets. That is, they worry that with demand for labor strong, and labor supply limited since the pandemic, there will continue to be inflationary wage pressure. The solution, from the perspective of central bankers, is to weaken labor markets and thereby suppress wage inflation.\\n\\nYet the latest data from the OECD indicates that labor force participation has grown strongly in member countries, potentially reducing wage pressure. In its latest outlook on employment, the OECD notes that employment has grown rapidly across member countries, that unemployment rates are low, and that labor market tightness persists. However, it also notes that, in most OECD countries, the inactivity rate (share of working-age people not participating in the labor force) is now lower than prior to the pandemic. This was not anticipated. During the pandemic, many pundits suggested that labor force participation would be rendered permanently lower due to the pandemic. They were wrong. Moreover, the inactivity rate fell especially sharply for older workers. Also, the OECD reports that the share of working-age people who are employed passed 70% this year, the highest level since records began in 2005. And the labor force participation rate across the OECD is also historically high. The resilience of labor markets across the OECD has two potential benefits. First, as both participation and employment rise, economies can continue to grow without necessarily creating inflationary pressure. Second, as participation rises, pressure on labor markets is reduced, thereby limiting the inflationary impact of a tight labor market. Overall, the OECD report is favorable and could influence the decisions of major central banks.\\n\\nWeek of October 09, 2023\\n\\nStrong job market, fuelled by immigration, raises questions for the Federal Reserve\\n\\nBond and currency market volatility: Causes and implications\\n\\nOil prices reverse course\\n\\nEurozone retail sales continue to fall\\n\\nUS mortgage applications down sharply\\n\\nStrong job market, fuelled by immigration, raises questions for the Federal Reserve\\n\\nThe US job market continues to beat expectations. More new jobs were created in September than in any month since January. Employment was up in most industries, except for financial services and information. Meanwhile, the unemployment rate remained steady at 3.8%. Plus, the number of initial claims for unemployment insurance, while up slightly last week from the previous week, remained roughly at a level not seen since January. Thus, although there are headwinds, the US economy continued to hum as the third quarter ended. It is widely expected that GDP growth for the third quarter, when reported later this month, will be strong. The question now is how the Federal Reserve will interpret the data.\\n\\nFirst, here are the details: The US government releases two reports on the job market; one based on a survey of establishments, the other based on a survey of households. The establishment survey found that 336,000 new jobs were created in September, the biggest increase since January. In addition, the government upwardly revised the job gains for July and August by a combined 119,000. This means that the softening of the job market was not so soft after all. By industry, the September data indicates that there was a strong 17,000 increase in manufacturing employment, including a job increase of 8,900 in the automotive sector. The survey is conducted on the 12th of the month and the auto worker strike began on the September 15. In addition, retail employment was up 19,700, transportation and warehousing were up a modest 8,600, information was down 5,000, and financial services was up only 3,000. However, some industries saw bigger gains. For example, professional and business services were up 21,000, health care/social assistance was up 65,900, leisure and hospitality were up 96,000, and government employment was up 73,000 (mostly state and local government). The government also reported that average hourly earnings of private sector workers were up 4.2% in September versus a year earlier, the smallest increase since June 2021. Thus, wage inflation is easing somewhat. Still, wage inflation hasn’t moved much since March. Thus, wage inflation has not eased to the degree that the Federal Reserve would like to see. Moreover, a survey by the Conference Board finds that most employers expect to offer 4.1% wage increases in 2024. If so, the Fed has more work to do to suppress inflation. The separate survey of households found that employment grew roughly in line with the growth of the working-age population. Thus, the participation rate remained unchanged while the unemployment rate remained unchanged. Although employment has grown strongly since the pandemic ended, it remains below the prepandemic path. That is, it is lower than would have been the case if the pandemic had not happened and if job growth had been steady ever since. One reason is that, although participation has rebounded since the pandemic, it remains below the prepandemic level. Specifically, the participation rate was 63.3% just prior to the pandemic. Today it is 62.8%. Given the tightness of the job market, employment cannot grow much faster unless there is a significant increase in participation or in immigration. As for immigration, it is now accelerating, contributing to strong job growth. In fact, since April 2020, more than half of job growth in the United States was attributable to foreign-born workers. Indeed, the industries that saw the biggest job gains (health care, social assistance, leisure, and hospitality) often employ large numbers of immigrants. Construction employment also grew strongly, and it is estimated that most of that involved foreign workers. If this continues, immigration will boost the size of the labor force relative to demand for labor, thereby suppressing wage inflation. It is worth noting that, in the decade just prior to the pandemic, immigration accounted for half of US population growth. Then it shut down during the pandemic and is now reviving. Immediately following the release of the jobs report, bond yields surged before partially reversing. In the futures market, the implicit probability that the Federal Reserve will hike rates before the end of this year increased from 40% the day prior to the jobs report being released to 50% afterwards. For months, the Fed has signaled that its goal is to weaken the labor market to suppress wage inflation. Strong job growth suggests the Fed might need to do more. However, the sharp rise in immigration could be doing the Fed’s job already. Moreover, if inflation data in the coming months is especially good, the Fed might choose to stay the course. Also, it is important to note that, historically, monetary policy has tended to act with a lag. High interest rates are already taking a toll on some sectors of the US economy. Thus, the economy will likely decelerate in the coming months, even absent another rate hike. High mortgage interest rates have stifled housing market activity. High auto loan rates have added to the cost of purchasing a car, thereby reducing discretionary household income. And high bond yields are inhibiting some companies from raising new funds for investments or transactions. Therefore, it is possible that the Fed will decide not to raise rates.\\n\\nBond and currency market volatility: Causes and implications\\n\\nIn most advanced economies, bond yields are rising. In the United States, the yield on the 10-year government bond hit 4.79% last week, the highest since 2007. In Germany, the yield on the 10-year bond hit 2.97%, the highest since 2011. And in Italy, the yield hit 4.95%, the highest since 2012. Other countries experienced similar patterns. This likely reflects increasing optimism about economic growth given recently better-than-expected economic data, especially in the United States. In addition, it likely reflects the consequent decision by major central banks to keep interest rates elevated for longer than previously expected.\\n\\nSome observers wonder if the rise in bond yields reflects increased concern by investors about the sustainability of fiscal policies. In the case of Italy, this is very likely a reason for higher yields. However, in many other advanced economies, it is not clear if concerns about fiscal policy are playing a role. In the United States, some observers worry that the budget deficit is unusually high given the low level of unemployment. This year it will likely be 7% of GDP at a time of historically low unemployment. Moreover, they worry that, under current law, the Congressional Budget Office expects future deficits to continue rising as a share of GDP. In part, the recent rise in the US deficit reflects the impact of higher bond yields. In any event, rising bond yields in the United States, which do not reflect rising expectations of inflation (as indicated by the stable breakeven rate), suggest that investors worry that the US government will be competing for scarce funds with businesses that are intent on investing. In fact, business investment has held up surprisingly well given the tightening of monetary policy. Moreover, it is expected that, in the years to come, businesses will have to invest heavily in new technologies, redesign of supply chains, clean energy, and climate change mitigation. Thus, the demand for capital will be high, thereby putting upward pressure on borrowing costs. The rise in bond yields is contributing to weakness in equity prices. If the surge in bond yields continues, it could have a significant negative impact on business investment, M&A transaction volume, housing market activity, and asset prices. The latter could lead to a decline in perceived wealth, thereby hurting consumer spending. In addition, the high yield on US bonds has created further upward pressure on the value of the US dollar as global investors seek the high returns and safety of owning US government bonds. Even though European yields have increased, investors note that real (inflation-adjusted) yields in the United States are higher than in Europe given lower inflation in the United States than in Europe. In addition, the US economy is growing faster than the European economy, thereby auguring tight monetary policy for longer. Consequently, there has been downward pressure on the euro and the pound. Also, the value of the Japanese yen temporarily passed the psychologically important level of 150 yen per dollar, despite threats of intervention by Japanese government officials. The yen only crossed 150 briefly before reverting to a slightly higher level. That probably reflected fear on the part of investors that they could get caught on the wrong side of official intervention. There is still an expectation that the authorities will not allow the yen to drop much further. For the United States, a strong dollar will help to suppress inflation. It will make import prices lower. However, it could, over time, have a negative impact on the competitiveness of US exports. For Japan, the weaker yen boosts export competitiveness. Yet it boosts import prices, contributing to inflation. And for Europe, lower-valued currencies can exacerbate inflation.\\n\\nOil prices reverse course\\n\\nOil prices are falling after a significant surge that led to a rebound of inflation in the United States. From late June until late September, the price of Brent crude oil was up roughly 30%. This was despite an evident slowdown in the global economy. Rather than driven by an increase in demand, the rise in the price of oil was driven by a reduction in supply. That, in turn, was due to Saudi Arabia and Russia voluntarily reducing output with the goal of boosting prices. The result was a sharp rise in gasoline (petrol) prices in many countries. In the United States, for example, the surge in gasoline prices caused headline annual inflation to rise from 3%in June to 3.7% in August, even as core inflation decelerated.\\n\\nYet after peaking on September 27, the price of crude oil has been declining, hitting US$84 per barrel late last week, down roughly 11% since September 27 and the lowest level since late August. Why are prices declining? One reason is that most investors expect a further weakening of demand given central-bank policies of prolonged high interest rates. They also expect that elevated oil prices will dampen demand. Already several indicators point to a weakening global economy. If so, then investors expect that OPEC and Russia will likely cut production even more to keep prices elevated. Perhaps investors are not confident that OPEC will be able to agree on this. Another possibility is that investors expect the poorer members of OPEC to cheat. This has happened in the past. When OPEC has agreed on production cuts meant to achieve elevated prices, some members cheat and boost production to take advantage of high prices. Yet, in so doing, they put downward pressure on prices. What happens next? A further decline in oil prices is more likely than an increase. If so, the temporary impact on inflation we have seen in recent months will disappear and reverse. This will be good news for inflation, as well as for economic growth. If prices fall, it could influence central-bank choices.\\n\\nEurozone retail sales continue to fall\\n\\nIn the Eurozone, real (inflation-adjusted) retail sales peaked at the end of 2021 and have been falling ever since. Recently we learned that, in August, sales continued to fall at a rapid pace. Retail sales volume fell 1.2% from July to August and fell 2.1% from a year earlier. From the previous month, real sales of nonfood merchandise fell 0.9%, sales of food and related products fell 1.2%, sales through mail order/internet venues fell 4.5%, and sales of automotive fuel fell 3%. This is indicative of a weak consumer sector, despite rising real wages and low unemployment.\\n\\nThe decline in the volume of automotive fuel sold likely reflects the impact of a sharp rise in petrol prices. That, in turn, had a negative impact on discretionary spending on other items. Also, home prices in the Eurozone are declining for the first time in a decade, reflecting the impact of high interest rates. Weaker turnover of housing has a negative spillover effect on retail sales. Plus, lower home prices imply lower household wealth, thereby having a negative impact on spending. By country, the month-to-month change in real retail sales was –1.2% for Germany, –2.8% for France, +0.4% for Spain, –0.6% for Netherlands, and –1.5% for Belgium.\\n\\nUS mortgage applications down sharply\\n\\nIn the United States, the number of applications for mortgages for the purchase of homes is down sharply, largely due to the very high mortgage interest rates. In the week ending September 29, new applications were down 6% from the previous week and were down 22% from a year earlier. Purchase market activity fell to the lowest level since 1995. In addition, applications for refinancing of mortgages were down 7% from the previous week and were down 11% from a year earlier.\\n\\nThe weakness of demand for new mortgages is affecting home prices. There has lately been a rise in home prices, not because of strong demand, but because of weak supply. That is, with mortgage interest rates so high, existing homeowners are reluctant to sell their homes because buying a different home could be hugely expensive. This reduces supply in the market, thereby boosting prices. Moreover, the rise in prices is stimulating new housing construction. Weakness in housing transactions has a spillover impact on other industries, especially those that supply home-related goods and services. This includes appliances, furniture, home entertainment, and home improvement products and services. Much of these types of transactions take place through the retailing industry. Thus, housing weakness can contribute to retail weakness. On the other hand, if households choose to postpone housing transactions, they might choose to increase expenditures on services such as travel, dining, and entertainment. Moreover, they might choose to upgrade existing homes, thereby boosting home improvement expenditures.\\n\\nWeek of October 02, 2023\\n\\nComments on the changing global trade environment\\n\\nEurozone money supply declines while inflation decelerates\\n\\nUS real income declines but real spending increases\\n\\nJapan struggles with monetary policy and currency values\\n\\nComments on the changing global trade environment\\n\\nThe latest issue of World Trade Monitor, published by an arm of the Dutch government, indicated that the volume of goods traded (which is adjusted for inflation) fell in July from a year earlier and from the previous month.\\n\\nThe most notable decline in trade volume took place in China. Chinese exports of goods fell 4.8% in July versus a year earlier and was down 2.9% from the previous month. Chinese imports were up a modest 2.2% in July versus a year earlier but were down 5.2% from the previous month. European trade also weakened. For the Eurozone, export volume was down 1.9% from a year earlier while import volume was down 3.2%. In the United States, on the other hand, the decline in trade volume was more modest, with both export and import volume down 0.6% from a year earlier. On a month-on-month basis, both export and import volume in the United States were up sharply from June to July. Japanese exports, meanwhile, were up 2% from a year earlier while import volume was down 3.9%. Also, trade in Asia, other than in China and Japan, fell sharply, with both import and export volume down considerably. This was true for both advanced as well as emerging economies of Asia. Given that many of these countries participate in supply chains that are focused on China, it is not surprising that trade would suffer given China’s trading weakness. What explains the weakness of trade in goods? First, recall that, during the pandemic, there was a surge in demand for goods. Since the pandemic ended, this has abated, especially as many consumers have shifted back toward spending on services. Second, high inflation in some countries led to a decline in consumer purchasing power, thereby weakening demand. Third, tighter monetary policy in North America, Europe, and some emerging countries has stifled economic activity, thereby weakening demand for traded goods. Fourth, increased trade restrictions that were implemented before and during the pandemic have hurt trade. Fifth, the particular weakness of China and other Asian countries stems, in part, from China’s weak domestic demand, US tariffs on China, and fraught geopolitical relations between China and the West. What happens next? Given that monetary policy is likely to remain tight in North America and Europe well into 2024, the lagged impact of this will most likely weaken demand further, thereby hurting trade volume. Thus, trade might not reach a trough until sometime next year. On the other hand, the surprisingly robust performance of US trade will potentially help to buttress trade in the coming months—provided that the US economy does not take an unexpected turn for the worse. * Data indicates that the share of US imports coming from China is declining, while the share coming from Mexico, Taiwan, and India is rising. This suggests a decline in US dependence on China. Yet that is not the whole story. A new study conducted by economists at the Brookings Institution found that, because many imports coming from countries other than China include inputs made in China, the United States remains highly dependent on China.\\n\\nFor example, the study found that, in 2018, 65% of US manufacturing sectors relied on China as their principal supplier. Yet, if the secondary reliance on Chinese parts is taken into account, then 94% of US manufacturing sectors relied on China as their principal supplier. The authors noted that “China’s ascent as the world’s top manufacturer is well documented. Less well known is the fact that its production of intermediate manufactured goods has advanced even more rapidly than its production of final goods. This concentration matters since supply chains fundamentally revolve around intermediate goods.” This means that the much-heralded de-coupling between China and the United States has not gotten very far. Although the United States and other countries have lately imposed new restrictions on exports to China and investment in China, the ability of Chinese companies to sell inputs to businesses in third countries will limit the ability of the United States to reduce the economic relationship. As one of the study’s authors said, “Disengaging with China will be much, much harder and much slower than many people think—and may be impossible.” * To counter the growing role of China in the Asia-Pacific region, the United States has led the creation of the Indo-Pacific Economic Framework (IPEF), which includes Australia, Brunei, Fiji, India, Indonesia, Japan, South Korea, Malaysia, New Zealand, Philippines, Singapore, Thailand, the United States, and Vietnam. The goals of IPEF are to diversify trade away from China and better respond to future supply chain disruptions. The latter is considered especially important given the disruption that followed the pandemic, the war in Ukraine, and the lockdowns in China. Moreover, there is concern that the fraught relationship between China and the West could augur future disruptions driven by geopolitics.\\n\\nYet, a study by the Peterson Institute found that, in recent years, trade by most members of IPEF has become less diverse than in the past. The exceptions are the United States and Japan. The increasing concentration of supply chains reflects different factors for different countries. However, the study indicated that “supply chain movements within the Indo-Pacific region have grown increasingly complex since 2010. But as their import sources and export destinations have become less diversified, IPEF countries increasingly depend on Chinese suppliers and buyers. It is uncertain whether the US-backed supply chain agreement, intended to reduce the region’s dependence on China, will affect these trends.”\\n\\nEurozone money supply declines while inflation decelerates\\n\\nThe Eurozone’s tight monetary policy of the past year has had the intended effect on credit markets. The European Central Bank (ECB) reports that the broad money supply, known as M3, declined 1.3% in August from a year earlier. This was an acceleration from the 0.4% decline in July. It was also the sharpest decline in money supply since the creation of the Eurozone. A narrower definition of money, M1, fell a very sharp 10.4% in August versus a year earlier. This measure includes cash and short-term deposits. Evidently, some depositors switched funds from short- to longer-term bank accounts to take advantage of higher interest rates.\\n\\nThe result of shrinking money supply was that the growth of bank lending to the private sector decelerated sharply. In August, bank lending to nonfinancial private sector companies was up a modest 0.6% from a year earlier, down from growth of 2.2% in July. Lending to the household sector was up 1% in August versus a year earlier, compared to growth of 1.3% in July. The tightening of monetary policy, which was undertaken to fight the highest inflation in four decades, is meant to weaken credit markets and thereby reduce aggregate demand in the economy. The hope is that this will weaken frothy labor markets and suppress wage gains. The latter are currently seen as too high. The ECB has previously published research showing that a real (inflation-adjusted) decline in the narrow money supply (M1) is a good predictor of recession. Currently, the real money supply is shrinking rapidly. However, in this case, the sharp drop in M1 likely reflects a decision to move money from one type of bank account to another. * Inflation in the Eurozone declined sharply in September. Consumer prices were up 4.3% from a year earlier, down from 5.2% in August and the lowest rate of annual inflation since October 2021. Prices were up 0.3% from the previous month. When volatile food and energy prices are excluded, core prices were up 4.5% in September versus a year earlier, down from 5.3% in August and the lowest level since August 2022. Thus, underlying inflation improved significantly, unrelated to energy and food prices.\\n\\nBy country, it was Germany and the Netherlands that contributed significantly to the decline in Eurozone inflation. In Germany, headline annual inflation fell from 6.4% in August to 4.3% in September. This was the lowest inflation since February 2022, just prior to the outbreak of war in Ukraine. In response, bond yields in Germany fell sharply. Meanwhile, headline inflation in the Netherlands fell from 3.4% in August to –0.3% in September. On the other hand, there wasn’t much change in inflation in France, Italy, and Spain. In France, inflation fell from 5.7% in August to 5.6% in September. In Italy, it increased from 5.5% to 5.7%, and in Spain it increased from 2.4% to 3.2%. The overall good news about inflation in the Eurozone, and especially in Germany, could have an impact on ECB monetary policy—especially if the trend continues in the months ahead. Most notable is that underlying inflation fell, despite the rise in energy prices. This suggests that ECB policy has weakened the economy sufficiently to reduce wage and price pressure. We learned just that the money supply is declining while bank lending is decelerating sharply. Although bond yields fell following good inflation news, yields had been climbing sharply in previous days, especially in Italy where investors are concerned about the government’s fiscal policy. The yield on the Italian 10-year bond hit 4.96% on Thursday, the highest level since 2012 when Europe was in a crisis. The sharp rise follows a government prediction that the economy will grow more slowly while the budget deficit will rise more sharply than previously anticipated. The rise in Italian yields was followed by increased yields in other European countries, including the United Kingdom. The Italian government’s fiscal expectations are likely driven by expectations of tight monetary policy in the coming year.\\n\\nUS real income declines but real spending increases\\n\\nIn August, real (inflation-adjusted) disposable personal income in the United States fell slightly but real consumer spending increased as households reduced the share of income that they save. Meanwhile, the Federal Reserve’s measure of inflation increased slightly due to higher energy prices, but core inflation declined sharply, adding to hopes that the Federal Reserve will be able to stop interest rate increases.\\n\\nHere are the details: In August, real disposable personal income fell 0.2% from the preceding month. Although real wages were up, other sources of household income failed to keep pace with prices. Meanwhile, real consumer spending increased a modest 0.1% from July to August. This was facilitated by another decline in the personal savings rate, dropping from 4.1% in July to 3.9% in August. Real spending on goods fell 0.2% from July to August, including a 0.3% drop in spending on durable goods and a 0.1% drop in spending on nondurables. This was offset, however, by a 0.2% increase in spending on services. In four of the last seven months, real spending on durables did not grow. This is consistent with the shift away from goods and toward services that followed the end of the pandemic. Separately, the government reported that the Fed’s favorite measure of inflation (the personal consumption expenditure deflator, or PCE-deflator), was up 3.5% in August from a year earlier, up slightly from 3.4% in July. The increase was due to higher energy prices. However, when volatile food and energy prices are excluded, core annual inflation fell from 4.3% in July to 3.9% in August. This is consistent with the recent data from the consumer price index.\\n\\nJapan struggles with monetary policy and currency values\\n\\nThe Bank of Japan (BOJ) has continued to stress its intent to leave monetary policy in a relatively easy stance, despite underlying inflation having risen to a 40-year high. This evident resolve on the part of the BOJ has contributed to a sharp decline in the value of the yen. Yet investors still wonder if the BOJ will stay the course. This uncertainty has led the BOJ Governor Kazuo Ueda to once again emphasize the direction of policy.\\n\\nLast week, Ueda said that the inflation has, so far, been driven by supply rather than demand factors. This is the reasoning behind leaving interest rates low and unchanged. As to whether demand conditions might change in a way that sustains high inflation, Ueda suggested uncertainty. Specifically, he said that “we are seeing some signs of change in corporate wage- and price-setting behavior. But there is very high uncertainty on whether these changes will broaden.” Meanwhile, many investors are concerned that the yen might fall further, passing the 150 yen per dollar psychological threshold. It is currently at 148.8 yen per dollar. If the yen falls much further, many investors expect that the authorities will intervene in the market by purchasing yen, which would effectively be a tightening of monetary policy. Japan’s chief currency diplomat said that “we are in very close communication with foreign authorities, especially the US authorities, and we share the view that excessive volatility is undesirable.” Prime Minister Kishida said that Japan “will not rule out any options and take appropriate action in response to excessive volatility.” They appear to be setting the stage for intervention. Or perhaps they are implicitly warning currency traders that they stand to lose if they bet on a declining yen. * As the value of the Japanese yen continues to decline, Finance Minister Suzuki said that “all options are on the table.” He said that Japan has been in consultation with other governments, implying that there could be coordinated intervention in currency markets if the yen falls below 150 yen per US dollar mark. On the other hand, Suzuki said that currency values should be determined by market forces, not governments. This implies that intervention is a sort of last resort.\\n\\nThe problem for Japan is that the exchange rate is highly sensitive to the interest differential between the United States and Japan. Given that US rates are elevated and might go higher, and that Japanese rates remain low and are not likely to go higher, it is not surprising that there is downward pressure on the yen. If intervention takes place, it will involve purchases of yen, which will reduce the money supply. It is likely that the BOJ will then offset the monetary impact by buying government bonds. This is known as “sterilized intervention,” which was the subject of my own doctoral dissertation many years ago. In any event, sterilized intervention rarely works. Thus, if Japan’s authorities want to have a significant impact on the exchange rate, only a change in monetary policy will be effective.\\n\\nOctober 2023 updates\\n\\nWeek of October 30, 2023\\n\\nWeek of October 23, 2023\\n\\nWeek of October 16, 2023\\n\\nWeek of October 09, 2023\\n\\nWeek of October 02, 2023\\n\\nArchive\\n\\nView previous updates\\n\\nBy\\n\\nIra Kalish\\n\\nUnited States\\n\\nIra Kalish\\n\\nChief Global Economist, Deloitte Touche Tohmatsu United States Dr. Kalish is the Chief Global Economist of Deloitte Touche Tohmatsu Ltd. He is a specialist in global economic issues as well as the effects of economic, demographic, and social trends on the global business environment. He advises Deloitte clients as well as Deloitte’s leadership on economic issues and their impact on business strategy. In addition, he has given numerous presentations to corporations and trade organizations on topics related to the global economy. He is widely traveled and has given presentations in 47 countries on six continents. He has been quoted by the Wall Street Journal , The Economist , and The Financial Times. Dr. Kalish holds a bachelor’s degree in economics from Vassar College and a PhD in international economics from Johns Hopkins University. ikalish@deloitte.com *\\n\\nShare\\n\\nlinkedin\\n\\ntwitter\\n\\nfacebook\\n\\npinterest\\n\\nemail\\n\\nPrint\\n\\nAcknowledgments\\n\\nCover image by: Sofia Sergi\\n\\nMore from the Deloitte Global Economics Research Center\\n\\nGet More Insights Access more insights for the consumer spending, housing, business investment, globalization & international trade, fiscal & monetary policy, sustainability, equity, & climate, labor markets and prices & inflation sectors.\\n\\nRelated Content\\n\\nA view from London On ageing, migration and growth Article United States Economic Forecast Q4 2024 The US economy remains strong with robust consumer spending and high business investment, but its future trajectory largely hinges on the policies of the incoming administration. Article • 18-min read Investment in business structures: Few bright spots emerge in an overall weak outlook In the aftermath of the pandemic, how has investment in business structures fared? The June 2023 Economics Spotlight examines investment in commercial real estate and other nonresidential structures. Article • 9-min read Japan economic outlook, February 2025 The economic outlook for Japan remains mixed, with inflation being the biggest challenge it faces on the road to economic recovery Article • 5-min read\\n\\nEXPLORE MORE TOPICS IN THIS ARTICLE\\n\\nHidden Content\\n\\nDeloitte Insights and our research centers deliver proprietary research designed to help organizations turn their aspirations into action. * * * *\\n\\nDeloitte Insights\\n\\nHome\\n\\nTopics\\n\\nIndustries\\n\\nAbout Deloitte Insights\\n\\nDELOITTE RESEARCH CENTERS\\n\\nCross-Industry\\n\\nEconomics\\n\\nConsumer\\n\\nEnergy & Industrials\\n\\nFinancial Services\\n\\nGovernment & Public Services\\n\\nLife Sciences & Health Care\\n\\nTech, Media & Telecom\\n\\nLearn about Deloitte’s offerings, people, and culture as a global provider of audit, assurance, consulting, financial advisory, risk advisory, tax, and related services. © 2025. See Terms of Use for more information. Deloitte refers to one or more of Deloitte Touche Tohmatsu Limited, a UK private company limited by guarantee (\"DTTL\"), its network of member firms, and their related entities. DTTL and each of its member firms are legally separate and independent entities. DTTL (also referred to as \"Deloitte Global\") does not provide services to clients. In the United States, Deloitte refers to one or more of the US member firms of DTTL, their related entities that operate using the \"Deloitte\" name in the United States and their respective affiliates. Certain services may not be available to attest clients under the rules and regulations of public accounting. Please see www.deloitte.com/about to learn more about our global network of member firms. * About Deloitte * Terms of Use * Privacy * Data Privacy Framework * Cookies * Cookie Settings * Legal Information for Job Seekers * Labor Condition Applications * Do Not Sell My Personal Information')"
            ]
          },
          "metadata": {},
          "execution_count": 34
        }
      ]
    },
    {
      "cell_type": "code",
      "source": [
        "from langchain.text_splitter import RecursiveCharacterTextSplitter"
      ],
      "metadata": {
        "id": "rfNpTao1kJ3M"
      },
      "execution_count": 42,
      "outputs": []
    },
    {
      "cell_type": "code",
      "source": [
        "text_splitter = RecursiveCharacterTextSplitter(chunk_size=1000, chunk_overlap=100)\n",
        "\n",
        "texts = text_splitter.split_documents(data)\n",
        "\n",
        "print(texts[1])"
      ],
      "metadata": {
        "colab": {
          "base_uri": "https://localhost:8080/"
        },
        "id": "5sp4zaIOkTpt",
        "outputId": "8033bf1d-060d-40b6-b2a5-c3588a06628e"
      },
      "execution_count": 43,
      "outputs": [
        {
          "output_type": "stream",
          "name": "stdout",
          "text": [
            "page_content='Hospitality\n",
            "\n",
            "Airlines & Transportation\n",
            "\n",
            "Energy & Industrials\n",
            "\n",
            "Home\n",
            "\n",
            "Aerospace & Defense\n",
            "\n",
            "Chemicals & Specialty Materials\n",
            "\n",
            "Engineering & Construction\n",
            "\n",
            "Industrial Manufacturing\n",
            "\n",
            "Mining & Metals\n",
            "\n",
            "Oil & Gas\n",
            "\n",
            "Power & Utilities\n",
            "\n",
            "Renewable Energy\n",
            "\n",
            "Financial Services\n",
            "\n",
            "Home\n",
            "\n",
            "Banking & Capital Markets\n",
            "\n",
            "Commercial Real Estate\n",
            "\n",
            "Insurance\n",
            "\n",
            "Investment Management\n",
            "\n",
            "Cross Financial Services\n",
            "\n",
            "Government & Public Services\n",
            "\n",
            "Home\n",
            "\n",
            "Defense, Security & Justice\n",
            "\n",
            "Government Health\n",
            "\n",
            "State & Local Government\n",
            "\n",
            "Whole of Government\n",
            "\n",
            "Transportation & Infrastructure\n",
            "\n",
            "Human Services\n",
            "\n",
            "Higher Education\n",
            "\n",
            "Life Sciences & Health Care\n",
            "\n",
            "Home\n",
            "\n",
            "Hospitals, Health Systems & Providers​\n",
            "\n",
            "Pharmaceutical Manufacturers​\n",
            "\n",
            "Health Plans & Payers​\n",
            "\n",
            "Medtech & Health Tech Organizations\n",
            "\n",
            "Tech, Media & Telecom\n",
            "\n",
            "Home\n",
            "\n",
            "Technology\n",
            "\n",
            "Media & Entertainment\n",
            "\n",
            "Telecommunications\n",
            "\n",
            "Semiconductor\n",
            "\n",
            "Sports' metadata={'source': 'output.md'}\n"
          ]
        }
      ]
    },
    {
      "cell_type": "code",
      "source": [
        "!pip install langchain_openai"
      ],
      "metadata": {
        "colab": {
          "base_uri": "https://localhost:8080/"
        },
        "id": "mnPs4DBjjrVo",
        "outputId": "f7af1c24-26d1-4e51-8a8e-7f4ce02fce2b"
      },
      "execution_count": 36,
      "outputs": [
        {
          "output_type": "stream",
          "name": "stdout",
          "text": [
            "Collecting langchain_openai\n",
            "  Downloading langchain_openai-0.3.6-py3-none-any.whl.metadata (2.3 kB)\n",
            "Requirement already satisfied: langchain-core<1.0.0,>=0.3.35 in /usr/local/lib/python3.11/dist-packages (from langchain_openai) (0.3.37)\n",
            "Requirement already satisfied: openai<2.0.0,>=1.58.1 in /usr/local/lib/python3.11/dist-packages (from langchain_openai) (1.61.1)\n",
            "Requirement already satisfied: tiktoken<1,>=0.7 in /usr/local/lib/python3.11/dist-packages (from langchain_openai) (0.9.0)\n",
            "Requirement already satisfied: langsmith<0.4,>=0.1.125 in /usr/local/lib/python3.11/dist-packages (from langchain-core<1.0.0,>=0.3.35->langchain_openai) (0.3.8)\n",
            "Requirement already satisfied: tenacity!=8.4.0,<10.0.0,>=8.1.0 in /usr/local/lib/python3.11/dist-packages (from langchain-core<1.0.0,>=0.3.35->langchain_openai) (9.0.0)\n",
            "Requirement already satisfied: jsonpatch<2.0,>=1.33 in /usr/local/lib/python3.11/dist-packages (from langchain-core<1.0.0,>=0.3.35->langchain_openai) (1.33)\n",
            "Requirement already satisfied: PyYAML>=5.3 in /usr/local/lib/python3.11/dist-packages (from langchain-core<1.0.0,>=0.3.35->langchain_openai) (6.0.2)\n",
            "Requirement already satisfied: packaging<25,>=23.2 in /usr/local/lib/python3.11/dist-packages (from langchain-core<1.0.0,>=0.3.35->langchain_openai) (24.2)\n",
            "Requirement already satisfied: typing-extensions>=4.7 in /usr/local/lib/python3.11/dist-packages (from langchain-core<1.0.0,>=0.3.35->langchain_openai) (4.12.2)\n",
            "Requirement already satisfied: pydantic<3.0.0,>=2.5.2 in /usr/local/lib/python3.11/dist-packages (from langchain-core<1.0.0,>=0.3.35->langchain_openai) (2.10.6)\n",
            "Requirement already satisfied: anyio<5,>=3.5.0 in /usr/local/lib/python3.11/dist-packages (from openai<2.0.0,>=1.58.1->langchain_openai) (3.7.1)\n",
            "Requirement already satisfied: distro<2,>=1.7.0 in /usr/local/lib/python3.11/dist-packages (from openai<2.0.0,>=1.58.1->langchain_openai) (1.9.0)\n",
            "Requirement already satisfied: httpx<1,>=0.23.0 in /usr/local/lib/python3.11/dist-packages (from openai<2.0.0,>=1.58.1->langchain_openai) (0.27.2)\n",
            "Requirement already satisfied: jiter<1,>=0.4.0 in /usr/local/lib/python3.11/dist-packages (from openai<2.0.0,>=1.58.1->langchain_openai) (0.8.2)\n",
            "Requirement already satisfied: sniffio in /usr/local/lib/python3.11/dist-packages (from openai<2.0.0,>=1.58.1->langchain_openai) (1.3.1)\n",
            "Requirement already satisfied: tqdm>4 in /usr/local/lib/python3.11/dist-packages (from openai<2.0.0,>=1.58.1->langchain_openai) (4.67.1)\n",
            "Requirement already satisfied: regex>=2022.1.18 in /usr/local/lib/python3.11/dist-packages (from tiktoken<1,>=0.7->langchain_openai) (2024.11.6)\n",
            "Requirement already satisfied: requests>=2.26.0 in /usr/local/lib/python3.11/dist-packages (from tiktoken<1,>=0.7->langchain_openai) (2.32.3)\n",
            "Requirement already satisfied: idna>=2.8 in /usr/local/lib/python3.11/dist-packages (from anyio<5,>=3.5.0->openai<2.0.0,>=1.58.1->langchain_openai) (3.10)\n",
            "Requirement already satisfied: certifi in /usr/local/lib/python3.11/dist-packages (from httpx<1,>=0.23.0->openai<2.0.0,>=1.58.1->langchain_openai) (2025.1.31)\n",
            "Requirement already satisfied: httpcore==1.* in /usr/local/lib/python3.11/dist-packages (from httpx<1,>=0.23.0->openai<2.0.0,>=1.58.1->langchain_openai) (1.0.7)\n",
            "Requirement already satisfied: h11<0.15,>=0.13 in /usr/local/lib/python3.11/dist-packages (from httpcore==1.*->httpx<1,>=0.23.0->openai<2.0.0,>=1.58.1->langchain_openai) (0.14.0)\n",
            "Requirement already satisfied: jsonpointer>=1.9 in /usr/local/lib/python3.11/dist-packages (from jsonpatch<2.0,>=1.33->langchain-core<1.0.0,>=0.3.35->langchain_openai) (3.0.0)\n",
            "Requirement already satisfied: orjson<4.0.0,>=3.9.14 in /usr/local/lib/python3.11/dist-packages (from langsmith<0.4,>=0.1.125->langchain-core<1.0.0,>=0.3.35->langchain_openai) (3.10.15)\n",
            "Requirement already satisfied: requests-toolbelt<2.0.0,>=1.0.0 in /usr/local/lib/python3.11/dist-packages (from langsmith<0.4,>=0.1.125->langchain-core<1.0.0,>=0.3.35->langchain_openai) (1.0.0)\n",
            "Requirement already satisfied: zstandard<0.24.0,>=0.23.0 in /usr/local/lib/python3.11/dist-packages (from langsmith<0.4,>=0.1.125->langchain-core<1.0.0,>=0.3.35->langchain_openai) (0.23.0)\n",
            "Requirement already satisfied: annotated-types>=0.6.0 in /usr/local/lib/python3.11/dist-packages (from pydantic<3.0.0,>=2.5.2->langchain-core<1.0.0,>=0.3.35->langchain_openai) (0.7.0)\n",
            "Requirement already satisfied: pydantic-core==2.27.2 in /usr/local/lib/python3.11/dist-packages (from pydantic<3.0.0,>=2.5.2->langchain-core<1.0.0,>=0.3.35->langchain_openai) (2.27.2)\n",
            "Requirement already satisfied: charset-normalizer<4,>=2 in /usr/local/lib/python3.11/dist-packages (from requests>=2.26.0->tiktoken<1,>=0.7->langchain_openai) (3.4.1)\n",
            "Requirement already satisfied: urllib3<3,>=1.21.1 in /usr/local/lib/python3.11/dist-packages (from requests>=2.26.0->tiktoken<1,>=0.7->langchain_openai) (2.3.0)\n",
            "Downloading langchain_openai-0.3.6-py3-none-any.whl (54 kB)\n",
            "   ━━━━━━━━━━━━━━━━━━━━━━━━━━━━━━━━━━━━━━━━ 54.9/54.9 kB 2.0 MB/s eta 0:00:00\n",
            "\u001b[?25hInstalling collected packages: langchain_openai\n",
            "Successfully installed langchain_openai-0.3.6\n"
          ]
        }
      ]
    },
    {
      "cell_type": "code",
      "source": [
        "from langchain_openai import OpenAIEmbeddings"
      ],
      "metadata": {
        "id": "-x4X0RFwjdy7"
      },
      "execution_count": 37,
      "outputs": []
    },
    {
      "cell_type": "code",
      "source": [
        "import os\n",
        "from google.colab import userdata"
      ],
      "metadata": {
        "id": "RGXePLVejgmH"
      },
      "execution_count": 38,
      "outputs": []
    },
    {
      "cell_type": "code",
      "source": [
        "os.environ[\"OPENAI_API_KEY\"] = userdata.get(\"OPENAI_API_KEY\")"
      ],
      "metadata": {
        "id": "QyYiyhGHjgj8"
      },
      "execution_count": 39,
      "outputs": []
    },
    {
      "cell_type": "code",
      "source": [
        "embeddings = OpenAIEmbeddings(model=\"text-embedding-3-large\")"
      ],
      "metadata": {
        "id": "ecKerbXTjgha"
      },
      "execution_count": 40,
      "outputs": []
    },
    {
      "cell_type": "code",
      "source": [
        "import faiss\n",
        "from langchain_community.docstore.in_memory import InMemoryDocstore\n",
        "from langchain_community.vectorstores import FAISS"
      ],
      "metadata": {
        "id": "awEOvmkKjgfC"
      },
      "execution_count": 41,
      "outputs": []
    },
    {
      "cell_type": "code",
      "source": [
        "vectorstore = FAISS.from_documents(texts, embeddings)"
      ],
      "metadata": {
        "id": "sUJ1B5FKj5IG"
      },
      "execution_count": 45,
      "outputs": []
    },
    {
      "cell_type": "markdown",
      "source": [
        "## Persist Vectors"
      ],
      "metadata": {
        "id": "qezLL0hkk3Mc"
      }
    },
    {
      "cell_type": "code",
      "source": [
        "vectorstore.save_local(\"faiss_index\")"
      ],
      "metadata": {
        "id": "XgJ-lihbks_u"
      },
      "execution_count": 46,
      "outputs": []
    },
    {
      "cell_type": "markdown",
      "source": [
        "## Retrieval Chains"
      ],
      "metadata": {
        "id": "3LM15PYDk71t"
      }
    },
    {
      "cell_type": "code",
      "source": [
        "from langchain import PromptTemplate\n",
        "from langchain.chains import RetrievalQA"
      ],
      "metadata": {
        "id": "9naBl_wkk45b"
      },
      "execution_count": 47,
      "outputs": []
    },
    {
      "cell_type": "code",
      "source": [
        "prompt_template = \"\"\"\n",
        "You are an AI assistant tasked with answering questions based solely\n",
        "on the provided context. Your goal is to generate a comprehensive answer\n",
        "for the given question using only the information available in the context. Follow these instructions carefully:\n",
        "\n",
        "1. First, you will be given a context to work with:\n",
        "\n",
        "context: {context}\n",
        "\n",
        "2. Then, you will be presented with a question:\n",
        "\n",
        "question: {question}\n",
        "\n",
        "3. Carefully analyze the context:\n",
        "   - Read through the entire context thoroughly.\n",
        "   - Identify key information relevant to the question.\n",
        "   - Note any specific facts, figures, or statements that\n",
        "   directly relate to the question.\n",
        "\n",
        "4. Generate your answer:\n",
        "   - Use only the information provided in the context.\n",
        "   - Do not include any external knowledge or assumptions not\n",
        "   present in the given context.\n",
        "   - If the context does not contain enough information to fully\n",
        "   answer the question, state this clearly in your response.\n",
        "   - Ensure your answer is comprehensive and addresses all aspects\n",
        "    of the question that can be answered using the context.\n",
        "\n",
        "5. Format your answer in Markdown:\n",
        "   - Use appropriate Markdown syntax to structure your response.\n",
        "   - Utilize headings, bullet points, or numbered lists where\n",
        "   applicable to organize information clearly.\n",
        "   - If quoting directly from the context, use quotation marks\n",
        "   and consider using blockquote formatting (>).\n",
        "\n",
        "6. Provide your final answer:\n",
        "   - Begin your response with <response> and end it with </response>.\n",
        "   - Ensure your entire answer, including all Markdown formatting,\n",
        "   is contained within these tags.\n",
        "\n",
        "Remember, your task is to answer the question based solely on the\n",
        "given context. Do not include any information or knowledge that\n",
        "is not explicitly stated in the provided context.\n",
        "\"\"\""
      ],
      "metadata": {
        "id": "3IjnwNnXlC6H"
      },
      "execution_count": 58,
      "outputs": []
    },
    {
      "cell_type": "code",
      "source": [
        "prompt = PromptTemplate(template=prompt_template, input_variables=['context', 'question'])"
      ],
      "metadata": {
        "id": "qrvseOsllprn"
      },
      "execution_count": 59,
      "outputs": []
    },
    {
      "cell_type": "code",
      "source": [
        "new_db = FAISS.load_local(\"faiss_index\", embeddings, allow_dangerous_deserialization=True)"
      ],
      "metadata": {
        "id": "ZCrQRUbYlvUT"
      },
      "execution_count": 60,
      "outputs": []
    },
    {
      "cell_type": "code",
      "source": [
        "new_db"
      ],
      "metadata": {
        "colab": {
          "base_uri": "https://localhost:8080/"
        },
        "id": "hWRywXsglzAs",
        "outputId": "22b60cda-e47b-4573-e90e-4d966122f149"
      },
      "execution_count": 61,
      "outputs": [
        {
          "output_type": "execute_result",
          "data": {
            "text/plain": [
              "<langchain_community.vectorstores.faiss.FAISS at 0x78907ab641d0>"
            ]
          },
          "metadata": {},
          "execution_count": 61
        }
      ]
    },
    {
      "cell_type": "code",
      "source": [
        "retriever = new_db.as_retriever(search_kwargs={\"k\":5})"
      ],
      "metadata": {
        "id": "wmnOiMqll25V"
      },
      "execution_count": 62,
      "outputs": []
    },
    {
      "cell_type": "code",
      "source": [
        "chain_type_kwargs = {\"prompt\": prompt}"
      ],
      "metadata": {
        "id": "MTxur4jnl5XD"
      },
      "execution_count": 63,
      "outputs": []
    },
    {
      "cell_type": "code",
      "source": [
        "from langchain_openai import ChatOpenAI"
      ],
      "metadata": {
        "id": "hwnfcfafmH3-"
      },
      "execution_count": 77,
      "outputs": []
    },
    {
      "cell_type": "code",
      "source": [
        "llm = ChatOpenAI(\n",
        "    model_name=\"gpt-4o-mini\",\n",
        "    temperature=0.3,\n",
        "    max_tokens=1000\n",
        ")"
      ],
      "metadata": {
        "id": "HYz3J3c3mEeo"
      },
      "execution_count": 78,
      "outputs": []
    },
    {
      "cell_type": "code",
      "source": [
        "qa = RetrievalQA.from_chain_type(llm=llm,\n",
        "                                 chain_type=\"stuff\",\n",
        "                                 retriever=retriever,\n",
        "                                 return_source_documents=True,\n",
        "                                 chain_type_kwargs=chain_type_kwargs,\n",
        "                                 verbose=True)"
      ],
      "metadata": {
        "id": "dT-IbHbcl7D5"
      },
      "execution_count": 79,
      "outputs": []
    },
    {
      "cell_type": "code",
      "source": [
        "test_query = \"Can you provide an overview of the US economy?\""
      ],
      "metadata": {
        "id": "_ObPtUyamAXo"
      },
      "execution_count": 80,
      "outputs": []
    },
    {
      "cell_type": "code",
      "source": [
        "response = qa(test_query)\n",
        "print(response)\n",
        "answer = response['result']\n",
        "source_document = response['source_documents'][0].page_content\n",
        "doc = response['source_documents'][0].metadata['source']"
      ],
      "metadata": {
        "colab": {
          "base_uri": "https://localhost:8080/"
        },
        "id": "k4oHf-kGl_V-",
        "outputId": "6fae2b79-7d33-44e1-8e54-0eefd2edf29c"
      },
      "execution_count": 81,
      "outputs": [
        {
          "output_type": "stream",
          "name": "stdout",
          "text": [
            "\n",
            "\n",
            "> Entering new RetrievalQA chain...\n",
            "\n",
            "> Finished chain.\n",
            "{'query': 'Can you provide an overview of the US economy?', 'result': '<response>\\n# Overview of the US Economy\\n\\nThe US economy is currently exhibiting signs of strength, but there are questions about the sustainability of this growth. Here are the key points:\\n\\n## Economic Growth\\n- The US economy experienced rapid growth in the third quarter of 2023, with real GDP growing at an annual rate of **4.9%**, the fastest growth since the fourth quarter of 2021.\\n- Over **80%** of this GDP increase is attributed to consumer spending and inventory accumulation.\\n- Business investment did not grow overall; while there was rising investment in equipment and intellectual property, this was offset by declining investment in equipment.\\n\\n## Labor Market\\n- The job market remains robust, with more new jobs created in September than in any month since January. \\n- The unemployment rate has remained steady at **3.8%**.\\n- Initial claims for unemployment insurance were reported at **210,000**, which, despite being up by **10,000** from the previous week, is still considered a low level.\\n\\n## Consumer Spending and Inflation\\n- Consumer spending rose at a rate of **2.5%**, the lowest since the fourth quarter of 2020, while inflation is decelerating.\\n- This scenario is described as a \"soft landing,\" but there are concerns about whether it can be sustained.\\n\\n## Future Outlook\\n- There is a consensus among forecasters that GDP growth will sharply decelerate in the fourth quarter due to a significant gap between income growth and consumer spending.\\n- Weakening business investment is seen as a warning sign for future economic performance.\\n- The longer high interest rates persist, the more significant their impact is expected to be on interest-sensitive sectors of the economy.\\n\\n## Conclusion\\nWhile the US economy shows strength through robust GDP growth and a strong labor market, there are indicators suggesting potential challenges ahead, particularly regarding consumer spending sustainability and business investment trends.\\n\\n</response>', 'source_documents': [Document(id='d33596d5-1ed5-4d7d-aef6-277e43916889', metadata={'source': 'output.md'}, page_content='Week of October 30, 2023\\n\\nUS economy shows strength. But will it last?\\n\\nUS household income falls, spending rises, and underlying inflation decelerates\\n\\nEuropean Central Bank (ECB) leaves rates unchanged\\n\\nMigration to advanced economies soars, with important implications\\n\\nUS economy shows strength. But will it last?\\n\\nThe US economy experienced rapid growth in the third quarter. This was expected given the favorable monthly and higher frequency data that had been released in the past three months. Real (inflation-adjusted) GDP grew at an annual rate of 4.9%, the fastest growth since the fourth quarter of 2021. Over 80% of the increase in real GDP can be attributed to consumer spending and inventory accumulation. Business investment failed to grow, with rising investment in equipment and intellectual property offset by declining investment in equipment. Exports saw strong growth, as did government purchases.'), Document(id='b5de1960-07f9-49ac-a000-d60195ee77e9', metadata={'source': 'output.md'}, page_content='economy started the fourth quarter on a positive note. The GDP report did not have a big impact on financial markets given that investors had anticipated strong growth. As such, it is not expected that this report will influence what the Federal Reserve does at its next meeting. Still, the rapid growth of GDP after a prolonged period of monetary tightening is unusual and helps to explain relatively high bond yields. * The GDP report was not the only signal of US economic strength. The government reported that, in the week ending October 21, 210,000 initial claims for unemployment insurance were filed. While up 10,000 from the previous week, this remains a relatively low level compared to the last several months. As such it signals a continuation of a strong labor market.'), Document(id='c9d5c641-6a95-4e39-be5d-65ef1d42cd25', metadata={'source': 'output.md'}, page_content='Strong job market, fuelled by immigration, raises questions for the Federal Reserve\\n\\nThe US job market continues to beat expectations. More new jobs were created in September than in any month since January. Employment was up in most industries, except for financial services and information. Meanwhile, the unemployment rate remained steady at 3.8%. Plus, the number of initial claims for unemployment insurance, while up slightly last week from the previous week, remained roughly at a level not seen since January. Thus, although there are headwinds, the US economy continued to hum as the third quarter ended. It is widely expected that GDP growth for the third quarter, when reported later this month, will be strong. The question now is how the Federal Reserve will interpret the data.'), Document(id='eb466f9b-b584-4632-92be-24d105344332', metadata={'source': 'output.md'}, page_content='up at a rate of 2.5%, the lowest since the fourth quarter of 2020. It is remarkable to have such strong growth in spending accompanied by a further deceleration in inflation. This is the definition of a soft landing. But will it be sustained? That is the big question. There is a consensus among forecasters that GDP growth will decelerate sharply in the fourth quarter. This is due to the significant gap between income growth and consumer spending in the third quarter. It is not expected that this can be sustained. Plus, the weakening of business investment is a warning sign of trouble to come. In addition, there is an expectation that, the longer high interest rates continue, the greater the impact they will have on interest-sensitive sectors of the economy. However, the latest purchasing managers’ indices (PMIs) for October, which were better than in September, suggest that the US economy started the fourth quarter on a positive note. The GDP report did not have a big impact on'), Document(id='985d9b7e-eb47-4898-b14d-de0c2cc64680', metadata={'source': 'output.md'}, page_content='Ira Kalish\\n\\nUnited States\\n\\nIra Kalish\\n\\nChief Global Economist, Deloitte Touche Tohmatsu United States Dr. Kalish is the Chief Global Economist of Deloitte Touche Tohmatsu Ltd. He is a specialist in global economic issues as well as the effects of economic, demographic, and social trends on the global business environment. He advises Deloitte clients as well as Deloitte’s leadership on economic issues and their impact on business strategy. In addition, he has given numerous presentations to corporations and trade organizations on topics related to the global economy. He is widely traveled and has given presentations in 47 countries on six continents. He has been quoted by the Wall Street Journal , The Economist , and The Financial Times. Dr. Kalish holds a bachelor’s degree in economics from Vassar College and a PhD in international economics from Johns Hopkins University. ikalish@deloitte.com *\\n\\nWeek of October 30, 2023\\n\\nUS economy shows strength. But will it last?')]}\n"
          ]
        }
      ]
    },
    {
      "cell_type": "code",
      "source": [
        "answer"
      ],
      "metadata": {
        "colab": {
          "base_uri": "https://localhost:8080/",
          "height": 122
        },
        "id": "JC_RLNRBmm5g",
        "outputId": "1817609c-f4a5-4a24-d94f-53f2221b4397"
      },
      "execution_count": 82,
      "outputs": [
        {
          "output_type": "execute_result",
          "data": {
            "text/plain": [
              "'<response>\\n# Overview of the US Economy\\n\\nThe US economy is currently exhibiting signs of strength, but there are questions about the sustainability of this growth. Here are the key points:\\n\\n## Economic Growth\\n- The US economy experienced rapid growth in the third quarter of 2023, with real GDP growing at an annual rate of **4.9%**, the fastest growth since the fourth quarter of 2021.\\n- Over **80%** of this GDP increase is attributed to consumer spending and inventory accumulation.\\n- Business investment did not grow overall; while there was rising investment in equipment and intellectual property, this was offset by declining investment in equipment.\\n\\n## Labor Market\\n- The job market remains robust, with more new jobs created in September than in any month since January. \\n- The unemployment rate has remained steady at **3.8%**.\\n- Initial claims for unemployment insurance were reported at **210,000**, which, despite being up by **10,000** from the previous week, is still considered a low level.\\n\\n## Consumer Spending and Inflation\\n- Consumer spending rose at a rate of **2.5%**, the lowest since the fourth quarter of 2020, while inflation is decelerating.\\n- This scenario is described as a \"soft landing,\" but there are concerns about whether it can be sustained.\\n\\n## Future Outlook\\n- There is a consensus among forecasters that GDP growth will sharply decelerate in the fourth quarter due to a significant gap between income growth and consumer spending.\\n- Weakening business investment is seen as a warning sign for future economic performance.\\n- The longer high interest rates persist, the more significant their impact is expected to be on interest-sensitive sectors of the economy.\\n\\n## Conclusion\\nWhile the US economy shows strength through robust GDP growth and a strong labor market, there are indicators suggesting potential challenges ahead, particularly regarding consumer spending sustainability and business investment trends.\\n\\n</response>'"
            ],
            "application/vnd.google.colaboratory.intrinsic+json": {
              "type": "string"
            }
          },
          "metadata": {},
          "execution_count": 82
        }
      ]
    },
    {
      "cell_type": "markdown",
      "source": [
        "## Batch Processing"
      ],
      "metadata": {
        "id": "xLeGDz2ln5F-"
      }
    },
    {
      "cell_type": "code",
      "source": [
        "with open(\"questions.txt\", \"r\") as qfile:\n",
        "    questions = [line.strip() for line in qfile if line.strip()]\n",
        "\n",
        "responses = []\n",
        "\n",
        "for idx, question in enumerate(questions, start=1):\n",
        "    response = qa(question)\n",
        "    answer = response[\"result\"]\n",
        "    formatted_response = f\"<response_{idx}>\\n{answer}\\n</response_{idx}>\"\n",
        "    responses.append(formatted_response)\n",
        "\n",
        "with open(\"responses.txt\", \"w\") as rfile:\n",
        "    rfile.write(\"\\n\\n\".join(responses))"
      ],
      "metadata": {
        "colab": {
          "base_uri": "https://localhost:8080/"
        },
        "id": "NawfH9twnIQO",
        "outputId": "0e9bd51e-79e7-464e-ad49-9f34545b3b93"
      },
      "execution_count": 84,
      "outputs": [
        {
          "output_type": "stream",
          "name": "stdout",
          "text": [
            "\n",
            "\n",
            "> Entering new RetrievalQA chain...\n",
            "\n",
            "> Finished chain.\n",
            "\n",
            "\n",
            "> Entering new RetrievalQA chain...\n",
            "\n",
            "> Finished chain.\n",
            "\n",
            "\n",
            "> Entering new RetrievalQA chain...\n",
            "\n",
            "> Finished chain.\n",
            "\n",
            "\n",
            "> Entering new RetrievalQA chain...\n",
            "\n",
            "> Finished chain.\n",
            "\n",
            "\n",
            "> Entering new RetrievalQA chain...\n",
            "\n",
            "> Finished chain.\n",
            "\n",
            "\n",
            "> Entering new RetrievalQA chain...\n",
            "\n",
            "> Finished chain.\n",
            "\n",
            "\n",
            "> Entering new RetrievalQA chain...\n",
            "\n",
            "> Finished chain.\n",
            "\n",
            "\n",
            "> Entering new RetrievalQA chain...\n",
            "\n",
            "> Finished chain.\n",
            "\n",
            "\n",
            "> Entering new RetrievalQA chain...\n",
            "\n",
            "> Finished chain.\n",
            "\n",
            "\n",
            "> Entering new RetrievalQA chain...\n",
            "\n",
            "> Finished chain.\n"
          ]
        }
      ]
    },
    {
      "cell_type": "code",
      "source": [],
      "metadata": {
        "id": "XZdvB1sMn-sr"
      },
      "execution_count": null,
      "outputs": []
    }
  ]
}